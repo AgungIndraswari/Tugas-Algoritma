{
  "nbformat": 4,
  "nbformat_minor": 0,
  "metadata": {
    "colab": {
      "provenance": [],
      "authorship_tag": "ABX9TyNXGkzX0EGKoqQA8Zbhi4Tw"
    },
    "kernelspec": {
      "name": "python3",
      "display_name": "Python 3"
    },
    "language_info": {
      "name": "python"
    }
  },
  "cells": [
    {
      "cell_type": "markdown",
      "source": [
        "**5.5 Strings Index**"
      ],
      "metadata": {
        "id": "nUv4SWBjW41l"
      }
    },
    {
      "cell_type": "code",
      "source": [
        "#Dalam string index, karakter pertama adalah index ke 0, karakter kedua adalah index ke 1,dst\n",
        "#Spasi tetap dihitung dalam index\n",
        "#Mencari index menggunakan kurung siku [ ] \n",
        "#Menggunakan tanda titik 2 yang artinya sampai\n",
        "\n",
        "alamat_10 = 'Singapadu Tengah'\n",
        "print(alamat_10[0:5])\n",
        "#Batas awal adalah index ke 0, pada contoh ini adalah huruf S\n",
        "#Batas akhir adalah index ke 5 artinya karakter yang muncul saat di run adalah index ke 4 (batas akhir tidak termasuk)"
      ],
      "metadata": {
        "colab": {
          "base_uri": "https://localhost:8080/"
        },
        "id": "0QUbeyPkh8P-",
        "outputId": "c311246f-0196-4f27-9fd4-eb23e968e420"
      },
      "execution_count": 1,
      "outputs": [
        {
          "output_type": "stream",
          "name": "stdout",
          "text": [
            "Singa\n"
          ]
        }
      ]
    },
    {
      "cell_type": "code",
      "source": [
        "#Tetap menggunakan variabel yang sama\n",
        "print(alamat_10[5:])\n",
        "#Batas awal adalah index ke 5,sedangkan index akhir tidak dideklarasikan sehingga huruf yang dimunculkan dari index ke 5 sampai akhir"
      ],
      "metadata": {
        "colab": {
          "base_uri": "https://localhost:8080/"
        },
        "id": "m8ACSsH9pmMH",
        "outputId": "b6a4bbe2-213c-4da5-dde6-598a05dfa904"
      },
      "execution_count": 2,
      "outputs": [
        {
          "output_type": "stream",
          "name": "stdout",
          "text": [
            "padu Tengah\n"
          ]
        }
      ]
    },
    {
      "cell_type": "code",
      "source": [
        "#Tetap menggunakan variabel yang sama\n",
        "print(alamat_10[:10])\n",
        "#Batas akhir adalah index ke 10, sehingga saat di run yang muncul index ke 9. Dimana index ke 9 pada contoh ini adalah spasi sehingga tidak terlihat"
      ],
      "metadata": {
        "colab": {
          "base_uri": "https://localhost:8080/"
        },
        "id": "2LdwPMXgvuSA",
        "outputId": "2bdd23ff-ce9d-4c4a-d2a0-437b1d718ffb"
      },
      "execution_count": 3,
      "outputs": [
        {
          "output_type": "stream",
          "name": "stdout",
          "text": [
            "Singapadu \n"
          ]
        }
      ]
    },
    {
      "cell_type": "code",
      "source": [
        "#Tetap menggunakan variabel yang sama\n",
        "print(alamat_10[0:-1])\n",
        "#Index ke -1 artinya huruf/karakter pertama dari belakang, dalam contoh index ke -1 adalah h, sehingga saat saat di run yang muncur adalah index ke -2 yaitu a"
      ],
      "metadata": {
        "colab": {
          "base_uri": "https://localhost:8080/"
        },
        "id": "ShbTKoetyuSI",
        "outputId": "4cca2c07-4524-4ed5-f226-7f0e9865c1fc"
      },
      "execution_count": 4,
      "outputs": [
        {
          "output_type": "stream",
          "name": "stdout",
          "text": [
            "Singapadu Tenga\n"
          ]
        }
      ]
    },
    {
      "cell_type": "code",
      "source": [
        "#Tetap menggunakan variabel yang sama\n",
        "#Percobaan memunculkan index ke 0 dengan batas index ke 12 yang mempunyai loncatan sebanyak 3 index\n",
        "print(alamat_10[0:12:3])\n",
        "#0 adalah batas awal, 12 adalah batas akhir, dan 3 adalah loncatan tiap huruf"
      ],
      "metadata": {
        "colab": {
          "base_uri": "https://localhost:8080/"
        },
        "id": "WJolwNLY0LV1",
        "outputId": "bab62249-ea2a-4b36-a151-5c20934ec4c3"
      },
      "execution_count": 5,
      "outputs": [
        {
          "output_type": "stream",
          "name": "stdout",
          "text": [
            "Sga \n"
          ]
        }
      ]
    },
    {
      "cell_type": "code",
      "source": [
        "#Tetap menggunakan variabel yang sama\n",
        "print(alamat_10[0:10:2:1])\n",
        "#Error karena tidak bisa memuat lebih dari 3 index\n",
        "# 0 adalah batas awal, 1o adalah batas akhir, 2 adalah loncatan tiap huruf, sedangkan 1 tidak memiliki arti"
      ],
      "metadata": {
        "colab": {
          "base_uri": "https://localhost:8080/",
          "height": 135
        },
        "id": "Hv6u7_qr8u56",
        "outputId": "29f92617-ff23-4880-d862-f8c9f99bc9c1"
      },
      "execution_count": 6,
      "outputs": [
        {
          "output_type": "error",
          "ename": "SyntaxError",
          "evalue": "ignored",
          "traceback": [
            "\u001b[0;36m  File \u001b[0;32m\"<ipython-input-6-352e80dbf3c0>\"\u001b[0;36m, line \u001b[0;32m2\u001b[0m\n\u001b[0;31m    print(alamat_10[0:10:2:1])\u001b[0m\n\u001b[0m                          ^\u001b[0m\n\u001b[0;31mSyntaxError\u001b[0m\u001b[0;31m:\u001b[0m invalid syntax\n"
          ]
        }
      ]
    },
    {
      "cell_type": "code",
      "source": [
        "#Tetap menggunakan variabel yang sama \n",
        "print(alamat_10[:])\n",
        "#Saat tidak ada index yang dideklarasikan pada perintah print maka akan dicetak semua index pada variabel alamat_10"
      ],
      "metadata": {
        "colab": {
          "base_uri": "https://localhost:8080/"
        },
        "id": "xfMFPRVI6dTi",
        "outputId": "4e4c87ee-96cb-4eb0-9878-4a20fd805017"
      },
      "execution_count": 7,
      "outputs": [
        {
          "output_type": "stream",
          "name": "stdout",
          "text": [
            "Singapadu Tengah\n"
          ]
        }
      ]
    },
    {
      "cell_type": "code",
      "source": [
        "#Mencoba menggunakan varibel lain\n",
        "julukan_10 = 'Bali adalah pulau seribu pura'\n",
        "print(julukan_10[3:9])\n",
        "print(julukan_10[0:16])\n",
        "print(julukan_10[:25])\n",
        "print(julukan_10[4:])\n",
        "print(julukan_10[2:27:4])\n",
        "print(julukan_10[0:-3:3])\n",
        "print(julukan_10[:])"
      ],
      "metadata": {
        "colab": {
          "base_uri": "https://localhost:8080/"
        },
        "id": "7ajxuy1Y7Zw3",
        "outputId": "1c775893-3021-4930-f24e-38df40f8b09e"
      },
      "execution_count": 8,
      "outputs": [
        {
          "output_type": "stream",
          "name": "stdout",
          "text": [
            "i adal\n",
            "Bali adalah pula\n",
            "Bali adalah pulau seribu \n",
            " adalah pulau seribu pura\n",
            "ldhlsbu\n",
            "Bidapasi \n",
            "Bali adalah pulau seribu pura\n"
          ]
        }
      ]
    },
    {
      "cell_type": "markdown",
      "source": [
        "**5.6 Strings Methods**"
      ],
      "metadata": {
        "id": "r6vfrm9u-R3U"
      }
    },
    {
      "cell_type": "code",
      "source": [
        "Nyepi_10 = 'Pada saat nyepi tidak boleh keluar'\n",
        "print(Nyepi_10.upper())\n",
        "#upper berfungsi untuk membuat semua karakter pada variabel menjadi huruf kapital"
      ],
      "metadata": {
        "colab": {
          "base_uri": "https://localhost:8080/"
        },
        "id": "abPusQQuQU6O",
        "outputId": "ff061732-bce7-4b27-ffbf-83ad5a114907"
      },
      "execution_count": 9,
      "outputs": [
        {
          "output_type": "stream",
          "name": "stdout",
          "text": [
            "PADA SAAT NYEPI TIDAK BOLEH KELUAR\n"
          ]
        }
      ]
    },
    {
      "cell_type": "code",
      "source": [
        "#Mendeklarasikan variabel\n",
        "nama_10 = 'NI GUSTI AYU AGUNG INDRASWARI'\n",
        "print(len(nama_10))\n",
        "#len berfungsi untuk menghitung panjang semua karakter pada variabel termasuk spasi\n",
        "#Berbeda dengan index, perhitungan perintah len dimulai dari 1"
      ],
      "metadata": {
        "colab": {
          "base_uri": "https://localhost:8080/"
        },
        "id": "vjo1x0qM-cwu",
        "outputId": "4bf39fb2-e6cd-4c87-ff1b-1ba733e09fe5"
      },
      "execution_count": 10,
      "outputs": [
        {
          "output_type": "stream",
          "name": "stdout",
          "text": [
            "29\n"
          ]
        }
      ]
    },
    {
      "cell_type": "code",
      "source": [
        "print(nama_10.lower())\n",
        "#lower berfungsi untuk mengubah semua karakter pada variabel menjadi huruf kecil semuanya"
      ],
      "metadata": {
        "colab": {
          "base_uri": "https://localhost:8080/"
        },
        "id": "jtPcZGymN8lr",
        "outputId": "aaf208a1-5b82-43f5-cf08-c488f82d867f"
      },
      "execution_count": 11,
      "outputs": [
        {
          "output_type": "stream",
          "name": "stdout",
          "text": [
            "ni gusti ayu agung indraswari\n"
          ]
        }
      ]
    },
    {
      "cell_type": "code",
      "source": [
        "print(nama_10.title())\n",
        "#title berfungsi mengubah setiap awal kata dimulai dengan huruf kapital"
      ],
      "metadata": {
        "colab": {
          "base_uri": "https://localhost:8080/"
        },
        "id": "MIvzYXyiOPBX",
        "outputId": "a794d3d3-7e24-45f5-d38a-14b24d3bacd2"
      },
      "execution_count": 12,
      "outputs": [
        {
          "output_type": "stream",
          "name": "stdout",
          "text": [
            "Ni Gusti Ayu Agung Indraswari\n"
          ]
        }
      ]
    },
    {
      "cell_type": "code",
      "source": [
        "print(nama_10.replace('AYU','KADEK'))\n",
        "print(nama_10.replace('NI','I'))\n",
        "#replace berfungsi untuk mengganti suatu kata dalam variabel dengan kata lainnya\n",
        "#Kata sebelum tanda koma adalah kata awal pada variabel dan kata setelah tanda koma adalah kata penggantinya"
      ],
      "metadata": {
        "colab": {
          "base_uri": "https://localhost:8080/"
        },
        "id": "_KKf1kwiObox",
        "outputId": "3bf55b77-bdd6-4c06-cd5e-b167f07ceb61"
      },
      "execution_count": 13,
      "outputs": [
        {
          "output_type": "stream",
          "name": "stdout",
          "text": [
            "NI GUSTI KADEK AGUNG INDRASWARI\n",
            "I GUSTI AYU AGUNG INDRASWARI\n"
          ]
        }
      ]
    },
    {
      "cell_type": "code",
      "source": [
        "print(nama_10.center(50))\n",
        "print(nama_10.center(100))\n",
        "#center berfungi untuk membuat penulisan data pada variabel menjorok ke dalam\n",
        "#Semakin besar anggka yang ditulis pada center maka penulisan data pada variabel akan semakin menjorok ke dalam"
      ],
      "metadata": {
        "colab": {
          "base_uri": "https://localhost:8080/"
        },
        "id": "regyvG-aOvQX",
        "outputId": "3ae421f8-2efd-4f3d-afa5-d88dacc44c76"
      },
      "execution_count": 14,
      "outputs": [
        {
          "output_type": "stream",
          "name": "stdout",
          "text": [
            "          NI GUSTI AYU AGUNG INDRASWARI           \n",
            "                                   NI GUSTI AYU AGUNG INDRASWARI                                    \n"
          ]
        }
      ]
    },
    {
      "cell_type": "code",
      "source": [
        "print(nama_10.find('INDRASWARI'))\n",
        "print(nama_10.find('GUSTI'))\n",
        "\n",
        "#find berfungsi untuk mencari kata atau karakter pada variabel"
      ],
      "metadata": {
        "colab": {
          "base_uri": "https://localhost:8080/"
        },
        "id": "fNcNwVePO75D",
        "outputId": "3d0857e4-08aa-4c21-8674-62a5f0042999"
      },
      "execution_count": 15,
      "outputs": [
        {
          "output_type": "stream",
          "name": "stdout",
          "text": [
            "19\n",
            "3\n"
          ]
        }
      ]
    },
    {
      "cell_type": "code",
      "source": [
        "print(nama_10.find('Ayu'))\n",
        "#Outputnya -1 karena tidak ada kata Ayu pada variabel nama_10\n",
        "#Perlu diperhatikan penggunaan huruf kapital atau huruf kecil agar sesuai dengan data pada variabel yang telah ditentukan"
      ],
      "metadata": {
        "colab": {
          "base_uri": "https://localhost:8080/"
        },
        "id": "TAGbjcRUPN3_",
        "outputId": "7794c188-dddc-4a98-97bb-e2d1a93c172a"
      },
      "execution_count": 16,
      "outputs": [
        {
          "output_type": "stream",
          "name": "stdout",
          "text": [
            "-1\n"
          ]
        }
      ]
    },
    {
      "cell_type": "code",
      "source": [
        "Anak_10 = 'Zaman sekarang banyak anak-anak bermain lato-lato'\n",
        "print(Anak_10.count('anak'))\n",
        "print(Anak_10.count('sekarang'))\n",
        "print(Anak_10.count('lato'))\n",
        "#count berfungsi untuk menghitung berapa kali karakter atau kata yang ditentukan muncul"
      ],
      "metadata": {
        "colab": {
          "base_uri": "https://localhost:8080/"
        },
        "id": "-fX0MiWRQQ2Q",
        "outputId": "814a4873-f2d6-4817-d6ae-4a8271fdd815"
      },
      "execution_count": 17,
      "outputs": [
        {
          "output_type": "stream",
          "name": "stdout",
          "text": [
            "2\n",
            "1\n",
            "2\n"
          ]
        }
      ]
    },
    {
      "cell_type": "code",
      "source": [
        "print('lato-lato' in Anak_10)\n",
        "#in berfungsi untuk menentukan apakah kata atau karakter yang ditentukan ada pada variabel"
      ],
      "metadata": {
        "colab": {
          "base_uri": "https://localhost:8080/"
        },
        "id": "ywPRD6xqbBgH",
        "outputId": "79dfe119-0b36-46cf-a3f8-ebb428f53bbf"
      },
      "execution_count": 18,
      "outputs": [
        {
          "output_type": "stream",
          "name": "stdout",
          "text": [
            "True\n"
          ]
        }
      ]
    },
    {
      "cell_type": "code",
      "source": [
        "print('banyak' in Anak_10)"
      ],
      "metadata": {
        "colab": {
          "base_uri": "https://localhost:8080/"
        },
        "id": "j5v1-BLBbcF5",
        "outputId": "99570d02-9f66-4ae7-95d7-4431097a0057"
      },
      "execution_count": 19,
      "outputs": [
        {
          "output_type": "stream",
          "name": "stdout",
          "text": [
            "True\n"
          ]
        }
      ]
    },
    {
      "cell_type": "code",
      "source": [
        "print('zaman' in Anak_10)\n",
        "#Menghasilkan false karena kesalahan penggunaan huruf kapital dan kecil\n",
        "#Perlu diperhatikan penggunaan huruf kapital atau kecil agar sesuai dengan data pada variabel karena ini merupakan sensitive case"
      ],
      "metadata": {
        "colab": {
          "base_uri": "https://localhost:8080/"
        },
        "id": "KvI-TOTKSG5K",
        "outputId": "dc7cfe58-5bd7-4ca1-ea8b-72c6548ad50b"
      },
      "execution_count": 20,
      "outputs": [
        {
          "output_type": "stream",
          "name": "stdout",
          "text": [
            "False\n"
          ]
        }
      ]
    },
    {
      "cell_type": "markdown",
      "source": [
        "**5.7 Operasi Matematika di Python**"
      ],
      "metadata": {
        "id": "bXoc75-pbreC"
      }
    },
    {
      "cell_type": "code",
      "source": [
        "#Mendeklarasikan variabel\n",
        "a = 10\n",
        "b = 2\n",
        "i = 11\n",
        "j = 3"
      ],
      "metadata": {
        "id": "WASLAeZPtLEe"
      },
      "execution_count": 21,
      "outputs": []
    },
    {
      "cell_type": "code",
      "source": [
        "#Operasi penjumlahan menggunakan tanda +\n",
        "c = a + b\n",
        "print(a,'+',b, '=',c)\n"
      ],
      "metadata": {
        "colab": {
          "base_uri": "https://localhost:8080/"
        },
        "id": "FRcGmRGcbq0R",
        "outputId": "6e3439cc-2114-4c0e-ca80-47ff0bc81b60"
      },
      "execution_count": 22,
      "outputs": [
        {
          "output_type": "stream",
          "name": "stdout",
          "text": [
            "10 + 2 = 12\n"
          ]
        }
      ]
    },
    {
      "cell_type": "code",
      "source": [
        "#Operasi pengurangan menggunakan tanda -\n",
        "d = a - b\n",
        "e = b - a\n",
        "print(a,'-',b,'=',d)\n",
        "print(b,'-',a,'=',e)"
      ],
      "metadata": {
        "colab": {
          "base_uri": "https://localhost:8080/"
        },
        "id": "InWXcWEuv5LK",
        "outputId": "9415cd8e-9303-472f-f981-846dc8f9488e"
      },
      "execution_count": 23,
      "outputs": [
        {
          "output_type": "stream",
          "name": "stdout",
          "text": [
            "10 - 2 = 8\n",
            "2 - 10 = -8\n"
          ]
        }
      ]
    },
    {
      "cell_type": "code",
      "source": [
        "#Operasi perkalian menggunakan tanda *\n",
        "f = a * b\n",
        "print(a,'x',b,'=',f)"
      ],
      "metadata": {
        "colab": {
          "base_uri": "https://localhost:8080/"
        },
        "id": "QAKvZs5ywZ5L",
        "outputId": "9be2a758-0841-4629-cf04-966c679e2043"
      },
      "execution_count": 24,
      "outputs": [
        {
          "output_type": "stream",
          "name": "stdout",
          "text": [
            "10 x 2 = 20\n"
          ]
        }
      ]
    },
    {
      "cell_type": "code",
      "source": [
        "#Operasi pembagian menggunakan tanda /\n",
        "g = a / b\n",
        "h = i / j\n",
        "print(a,':',b,'=',g)\n",
        "print(i,':',j,'=',h)"
      ],
      "metadata": {
        "colab": {
          "base_uri": "https://localhost:8080/"
        },
        "id": "qNRi74xXyx3n",
        "outputId": "c76733cb-f881-4d6c-8fd6-20d065bb26c0"
      },
      "execution_count": 25,
      "outputs": [
        {
          "output_type": "stream",
          "name": "stdout",
          "text": [
            "10 : 2 = 5.0\n",
            "11 : 3 = 3.6666666666666665\n"
          ]
        }
      ]
    },
    {
      "cell_type": "code",
      "source": [
        "#Operasi pembulatan pembagian menggunakan tanda //\n",
        "k = i // j\n",
        "print(i,':',j,'=',k)\n"
      ],
      "metadata": {
        "colab": {
          "base_uri": "https://localhost:8080/"
        },
        "id": "koggSONGz4lV",
        "outputId": "f2c6b8d0-08b3-4c17-e5f6-68188d277eda"
      },
      "execution_count": 26,
      "outputs": [
        {
          "output_type": "stream",
          "name": "stdout",
          "text": [
            "11 : 3 = 3\n"
          ]
        }
      ]
    },
    {
      "cell_type": "code",
      "source": [
        "#Operasi sisa pembagian atau modulo menggunakan tanda %\n",
        "l = a % b\n",
        "o = i % j\n",
        "print(a,'mod',b,'=',l)\n",
        "print(i,'mod',j,'=',o)"
      ],
      "metadata": {
        "colab": {
          "base_uri": "https://localhost:8080/"
        },
        "id": "8M-GcWjqzWmK",
        "outputId": "3a70b98d-4ac2-4cb9-b683-dc6ed4ddebb2"
      },
      "execution_count": 27,
      "outputs": [
        {
          "output_type": "stream",
          "name": "stdout",
          "text": [
            "10 mod 2 = 0\n",
            "11 mod 3 = 2\n"
          ]
        }
      ]
    },
    {
      "cell_type": "code",
      "source": [
        "#Operasi pemangkatan menggunakan tanda **\n",
        "m = a ** b\n",
        "n = i ** j\n",
        "print(m)\n",
        "print(n)"
      ],
      "metadata": {
        "colab": {
          "base_uri": "https://localhost:8080/"
        },
        "id": "rHl6QHKe1Fbi",
        "outputId": "28315394-edc7-4b26-e47f-c89e22a20f8a"
      },
      "execution_count": 28,
      "outputs": [
        {
          "output_type": "stream",
          "name": "stdout",
          "text": [
            "100\n",
            "1331\n"
          ]
        }
      ]
    },
    {
      "cell_type": "code",
      "source": [
        "#Prioritas operasi matematika\n",
        "#1. () Angka yang ada di dalam kurung akan dioperasikan terlebih dahulu\n",
        "#2. Eksponen **\n",
        "#3. Perkalian,pembagian,modulo,pembulatan pembagian\n",
        "#4. Penjumlahan, pengurangan\n",
        "# contoh\n",
        "hasil = a * b - i / j + a \n",
        "print(a,'x',b,'-',i,':',j,'+',a,'=',hasil)"
      ],
      "metadata": {
        "colab": {
          "base_uri": "https://localhost:8080/"
        },
        "id": "ZhA92CY74A8V",
        "outputId": "fb58a859-ee02-41a7-df81-0a27b4b24e2b"
      },
      "execution_count": 29,
      "outputs": [
        {
          "output_type": "stream",
          "name": "stdout",
          "text": [
            "10 x 2 - 11 : 3 + 10 = 26.333333333333332\n"
          ]
        }
      ]
    },
    {
      "cell_type": "code",
      "source": [
        "#Augmented operator adalah operator yang digunakan untuk menetapkan beberapa nilai ke variabel\n",
        "\n",
        "#Augmented operator pada pemjumlahan menggunakan tanda +=\n",
        "y = 20\n",
        "y += 6\n",
        "print(y)\n",
        "\n",
        "#Disini artinya nilai y awal yaitu 20 ditambah dengan 6\n",
        "#Sehingga nilai y berubah menjadi 26\n",
        "# y = y + 6 maka y = 20 + 6 , y = 26\n"
      ],
      "metadata": {
        "id": "ojFcObjN57tc",
        "colab": {
          "base_uri": "https://localhost:8080/"
        },
        "outputId": "dec5fdd9-c6c1-4d5a-ef2e-d56d42f4e088"
      },
      "execution_count": 30,
      "outputs": [
        {
          "output_type": "stream",
          "name": "stdout",
          "text": [
            "26\n"
          ]
        }
      ]
    },
    {
      "cell_type": "code",
      "source": [
        "#Augmented operator pada pengurangan menggunakan tanda -=\n",
        "y -= 5\n",
        "print(y)\n",
        "#Nilai y yang dioperasikan adalah nilai y terakhir yaitu 26\n",
        "#Disini artinya y = y - 5, sehingga y = 26 - 5\n",
        "#Maka y = 21, nilai y = 21 menggantikan nilai y = 26 "
      ],
      "metadata": {
        "colab": {
          "base_uri": "https://localhost:8080/"
        },
        "id": "y5W6BjK-hPu3",
        "outputId": "11d2fea4-61f5-4a51-fb50-12b10c503ef9"
      },
      "execution_count": 31,
      "outputs": [
        {
          "output_type": "stream",
          "name": "stdout",
          "text": [
            "21\n"
          ]
        }
      ]
    },
    {
      "cell_type": "code",
      "source": [
        "#Augmented operator pada perkalian menggunakan tanda *=\n",
        "y *= 5\n",
        "print(y)\n",
        "#Nilai y yang dioperasikan adalah nilai y terakhir yaitu 21\n",
        "#Disini artinya y = y * 5, sehingga y = 21 * 5\n",
        "#Maka y = 105, nilai y = 105 menggantikan nilai y = 21"
      ],
      "metadata": {
        "colab": {
          "base_uri": "https://localhost:8080/"
        },
        "id": "-_EvD0JHio47",
        "outputId": "925820dd-e78d-42f9-a8a3-434b5d94cc2a"
      },
      "execution_count": 32,
      "outputs": [
        {
          "output_type": "stream",
          "name": "stdout",
          "text": [
            "105\n"
          ]
        }
      ]
    },
    {
      "cell_type": "code",
      "source": [
        "#Augmented operator pada pembagian menggunakan tanda /=\n",
        "z = 70\n",
        "z /= 10\n",
        "print(z)\n",
        "#Disini artinya y = y / 5, sehingga y = 70 / 10\n",
        "#Maka y = 7.0\n",
        "#Output bertipe data float oleh karena itu berbentuk bilangan desimal\n",
        "type(z)"
      ],
      "metadata": {
        "colab": {
          "base_uri": "https://localhost:8080/"
        },
        "id": "t8aX6tKvl2Yv",
        "outputId": "0caa2692-10cc-4309-93c2-daf318874866"
      },
      "execution_count": 33,
      "outputs": [
        {
          "output_type": "stream",
          "name": "stdout",
          "text": [
            "7.0\n"
          ]
        },
        {
          "output_type": "execute_result",
          "data": {
            "text/plain": [
              "float"
            ]
          },
          "metadata": {},
          "execution_count": 33
        }
      ]
    },
    {
      "cell_type": "code",
      "source": [
        "#Augmented operator pada sisa pembagian atau modulo menggunakan tanda %=\n",
        "z %= 3\n",
        "print(z)\n",
        "#Nilai z yang dioperasikan adalah nilai z terakhir yaitu 7.0\n",
        "#Disini artinya z = z mod 5, sehingga y = 7 mod 3\n",
        "#Maka z = 1.0\n",
        "#Output bertipe data float oleh karena itu berbentuk bilangan desimal\n",
        "type(z)"
      ],
      "metadata": {
        "colab": {
          "base_uri": "https://localhost:8080/"
        },
        "id": "5g5QC2dZmwS7",
        "outputId": "feeee8fe-cc03-4d60-9400-ece44f46c50f"
      },
      "execution_count": 34,
      "outputs": [
        {
          "output_type": "stream",
          "name": "stdout",
          "text": [
            "1.0\n"
          ]
        },
        {
          "output_type": "execute_result",
          "data": {
            "text/plain": [
              "float"
            ]
          },
          "metadata": {},
          "execution_count": 34
        }
      ]
    },
    {
      "cell_type": "markdown",
      "source": [
        "**5.8 Operator Perbandingan di Python**"
      ],
      "metadata": {
        "id": "FJpIZEsvn4Mv"
      }
    },
    {
      "cell_type": "code",
      "source": [
        "#Operator perbandingan 1\n",
        "#Operator perbandingan lebih besar menggunakan tanda >\n",
        "a = 7 > 6\n",
        "print(a)\n",
        "\n",
        "#Operator perbandingan lebih kecil menggunakan tanda <\n",
        "a = 6 < 7\n",
        "print(a)\n",
        "\n",
        "#Operator perbandingan lebih besar dari atau sama dengan menggunakan tanda >=\n",
        "a = 7 >= 6\n",
        "print(a)\n",
        "\n",
        "#Operator perbandingan lebih kecil dari atau sama dengan menggunakan tanda <=\n",
        "a = 6 <= 7\n",
        "print(a)\n",
        "\n",
        "#Operator perbandingan sama dengan menggunakan tanda ==\n",
        "a = 6 == 6\n",
        "print(a)\n",
        "\n",
        "#Operator perbandingan tidak sama dengan menggunakan tanda !=\n",
        "a = 6 != 7\n",
        "print (a)\n",
        "\n",
        "#Semua percobaan di atas akan menghasilkan output True atau False"
      ],
      "metadata": {
        "colab": {
          "base_uri": "https://localhost:8080/"
        },
        "id": "KCdyIynqoBWE",
        "outputId": "572c2b81-37b3-4702-cc07-c827fa9388eb"
      },
      "execution_count": 35,
      "outputs": [
        {
          "output_type": "stream",
          "name": "stdout",
          "text": [
            "True\n",
            "True\n",
            "True\n",
            "True\n",
            "True\n",
            "True\n"
          ]
        }
      ]
    },
    {
      "cell_type": "code",
      "source": [
        "#Operator perbandingan 2\n",
        "#Untuk membandingkan output pada operator perbandingan 1 dan 2\n",
        "\n",
        "#Operator perbandingan lebih besar menggunakan tanda >\n",
        "a = 6 > 7\n",
        "print(a)\n",
        "\n",
        "#Operator perbandingan lebih kecil menggunakan tanda <\n",
        "a = 7 < 6\n",
        "print(a)\n",
        "\n",
        "#Operator perbandingan lebih besar dari atau sama dengan menggunakan tanda >=\n",
        "a = 6 >= 7\n",
        "print(a)\n",
        "\n",
        "#Operator perbandingan lebih kecil dari atau sama dengan menggunakan tanda <=\n",
        "a = 7 <= 6\n",
        "print(a)\n",
        "\n",
        "#Operator perbandingan sama dengan menggunakan tanda ==\n",
        "a = 6 == 7\n",
        "print(a)\n",
        "\n",
        "#Operator perbandingan tidak sama dengan menggunakan tanda !=\n",
        "a = 7 != 7\n",
        "print (a)\n",
        "\n",
        "#Semua percobaan di atas akan menghasilkan output True atau False"
      ],
      "metadata": {
        "colab": {
          "base_uri": "https://localhost:8080/"
        },
        "id": "05laYz-grL0J",
        "outputId": "01dce7c8-8759-43fb-84a7-9feded23321b"
      },
      "execution_count": 36,
      "outputs": [
        {
          "output_type": "stream",
          "name": "stdout",
          "text": [
            "False\n",
            "False\n",
            "False\n",
            "False\n",
            "False\n",
            "False\n"
          ]
        }
      ]
    },
    {
      "cell_type": "code",
      "source": [
        "a = 6 > 7\n",
        "b = 7 > 6\n",
        "print(a)\n",
        "print(~a)\n",
        "print(b)\n",
        "print(~b)\n",
        "\n",
        "#Tanda ~ artinya negasi atau ingkaran\n",
        "#Output -1 artinya True\n",
        "#Output -2 artinya False"
      ],
      "metadata": {
        "colab": {
          "base_uri": "https://localhost:8080/"
        },
        "id": "PaAfc6-QYuk0",
        "outputId": "2e61aebd-b0fb-46b7-8e4d-d01636a2e4cd"
      },
      "execution_count": 39,
      "outputs": [
        {
          "output_type": "stream",
          "name": "stdout",
          "text": [
            "False\n",
            "-1\n",
            "True\n",
            "-2\n"
          ]
        }
      ]
    },
    {
      "cell_type": "markdown",
      "source": [
        "**5.9 Operator Logika di Python**"
      ],
      "metadata": {
        "id": "UKkUUPX0rzmH"
      }
    },
    {
      "cell_type": "code",
      "source": [
        "#Mendeklarasikan variabel\n",
        "pulpen_10 = 7\n",
        "pensil_10 = 4\n",
        "buku_10 = 10"
      ],
      "metadata": {
        "id": "CYso-Kl-r-YO"
      },
      "execution_count": 37,
      "outputs": []
    },
    {
      "cell_type": "code",
      "source": [
        "#Operator logika and\n",
        "#Operator logika and akan bernilai True jika kedua nilai adalah True\n",
        "#Operator logika and akan bernilai False jika salah satu atau kedua nilai adalah False\n",
        "#Operator ini sama seperti konjungsi pada logika matematika\n",
        "\n",
        "print(pulpen_10 > pensil_10 and buku_10 > pulpen_10)\n",
        "#Bernilai True karena kedua pernyataan bernilai True yaitu 7 > 4 dan 10 > 7"
      ],
      "metadata": {
        "colab": {
          "base_uri": "https://localhost:8080/"
        },
        "id": "wJbPisG3tN1Q",
        "outputId": "00614b0b-8d7b-410f-a0bf-8e754f0a3a62"
      },
      "execution_count": 38,
      "outputs": [
        {
          "output_type": "stream",
          "name": "stdout",
          "text": [
            "True\n"
          ]
        }
      ]
    },
    {
      "cell_type": "code",
      "source": [
        "print(pensil_10 < buku_10 and pensil_10 < buku_10)\n",
        "#Bernilai True karena kedua pernyataan bernilai True yaitu 4 < 10 dan 7 < 10\n"
      ],
      "metadata": {
        "colab": {
          "base_uri": "https://localhost:8080/"
        },
        "id": "B1rcQ-2eu9-E",
        "outputId": "5df25560-8a24-4354-b19c-9060ba661205"
      },
      "execution_count": 40,
      "outputs": [
        {
          "output_type": "stream",
          "name": "stdout",
          "text": [
            "True\n"
          ]
        }
      ]
    },
    {
      "cell_type": "code",
      "source": [
        "print(buku_10 == (pulpen_10 + pensil_10) and buku_10 >= (pulpen_10 - pensil_10))\n",
        "#Bernilai False karena salah satu pernyataan bernilai False"
      ],
      "metadata": {
        "colab": {
          "base_uri": "https://localhost:8080/"
        },
        "id": "ecnWCJi9vXhV",
        "outputId": "309f21ac-05b1-4f80-a91e-7d5fee3358c3"
      },
      "execution_count": 41,
      "outputs": [
        {
          "output_type": "stream",
          "name": "stdout",
          "text": [
            "False\n"
          ]
        }
      ]
    },
    {
      "cell_type": "code",
      "source": [
        "print(pensil_10 > buku_10 and pensil_10 > pulpen_10)\n",
        "#Bernilai False karena kedua pernyataan bernilai False"
      ],
      "metadata": {
        "colab": {
          "base_uri": "https://localhost:8080/"
        },
        "id": "olCZ1gF7wwe2",
        "outputId": "0ea223da-1546-421a-9305-cbbaaf6265d4"
      },
      "execution_count": 42,
      "outputs": [
        {
          "output_type": "stream",
          "name": "stdout",
          "text": [
            "False\n"
          ]
        }
      ]
    },
    {
      "cell_type": "code",
      "source": [
        "#Operator logika or\n",
        "#Operator logika or bernilai True jika salah satu atau lebih dari pernyataan bernilai True\n",
        "#Operator logika or bernilai False jika kedua pernyataan bernilai False\n",
        "#Operator ini sama seperti disjungsi pada logika matematika\n",
        "\n",
        "print(pulpen_10 > pensil_10 or buku_10 > pulpen_10)\n",
        "#Output True karena kedua pernyataan bernilai True yaitu 7 > 4 dan 10 > 7"
      ],
      "metadata": {
        "colab": {
          "base_uri": "https://localhost:8080/"
        },
        "id": "RlZ3U8UlxZGi",
        "outputId": "371b9287-0471-421c-c68b-5c0aa5a543d5"
      },
      "execution_count": 43,
      "outputs": [
        {
          "output_type": "stream",
          "name": "stdout",
          "text": [
            "True\n"
          ]
        }
      ]
    },
    {
      "cell_type": "code",
      "source": [
        "print(pensil_10 > buku_10 or pensil_10 < buku_10)\n",
        "#Output True karena salah satu pernyataan bernilai True yaitu pensil_10 < buku_10, 4 < 10"
      ],
      "metadata": {
        "colab": {
          "base_uri": "https://localhost:8080/"
        },
        "id": "VFpGBtVUyIta",
        "outputId": "fe1705e3-838a-4c7e-caa4-cdca5c4256c6"
      },
      "execution_count": 44,
      "outputs": [
        {
          "output_type": "stream",
          "name": "stdout",
          "text": [
            "True\n"
          ]
        }
      ]
    },
    {
      "cell_type": "code",
      "source": [
        "print(pensil_10 >= pulpen_10 or buku_10 > (pensil_10 - pulpen_10))\n",
        "#Output True karena salah satu pernyataan bernilai True yaitu buku_10 > (pensil_10 - pulpen_10), 10 > (4 - 7)"
      ],
      "metadata": {
        "colab": {
          "base_uri": "https://localhost:8080/"
        },
        "id": "i6dXiuoT0vyO",
        "outputId": "0f1a651d-2b3e-474d-c1a0-4f73600e5161"
      },
      "execution_count": 45,
      "outputs": [
        {
          "output_type": "stream",
          "name": "stdout",
          "text": [
            "True\n"
          ]
        }
      ]
    },
    {
      "cell_type": "code",
      "source": [
        "print(buku_10 < pulpen_10 or pensil_10 > pulpen_10)\n",
        "#Output False karena kedua pernyataan bernilai False"
      ],
      "metadata": {
        "colab": {
          "base_uri": "https://localhost:8080/"
        },
        "id": "P3eITcHq2wrJ",
        "outputId": "8e6d6009-b3bb-4b57-8fd8-386645f7911f"
      },
      "execution_count": 46,
      "outputs": [
        {
          "output_type": "stream",
          "name": "stdout",
          "text": [
            "False\n"
          ]
        }
      ]
    },
    {
      "cell_type": "markdown",
      "source": [
        "**5.10 Operator If di Python**"
      ],
      "metadata": {
        "id": "lVn0sU3M3MA_"
      }
    },
    {
      "cell_type": "code",
      "source": [
        "#Operator if digunakan untuk mengambil keputusan berdasarkan suatu kondisi\n",
        "#Operator if akan dijalankan apabila nilai variabel yang dijalankan adalah True\n",
        "#Sedangkan kalau nilainya adalah False, maka tidak akan dijalankan\n",
        "#Mendeklarasikan variabel\n",
        "a = 20\n",
        "b = 5\n",
        "\n",
        "#Menjalankan operator if\n",
        "if a + b >= 0:                    #kondisi 1\n",
        "    print('Bilangan positif')     #aksi true 1\n",
        "if a + b <= 0:                    #kondisi 2\n",
        "    print('Bilangan negatif')     #aksi true 2\n",
        "\n",
        "#Ingat!! setelah mendeklarasikan perintah if akhiri dengan tanda titik dua (:). Jika tidak akan error\n",
        "# a + b = 25, dimana 25 lebih dari 0 sehingga termasuk bilangan positif"
      ],
      "metadata": {
        "colab": {
          "base_uri": "https://localhost:8080/"
        },
        "id": "zOBRntGK3LTk",
        "outputId": "5c88c581-7bc9-4c5c-a752-dff32b8f2cf8"
      },
      "execution_count": 47,
      "outputs": [
        {
          "output_type": "stream",
          "name": "stdout",
          "text": [
            "Bilangan positif\n"
          ]
        }
      ]
    },
    {
      "cell_type": "code",
      "source": [
        "fmipa_10 = input(\"Hai, \")\n",
        "jurusan = input(\"Kamu kuliah jurusan apa?\")\n",
        "\n",
        "if jurusan == \"matematika\":                               #kondisi 1\n",
        "    print('Wah, pasti kamu pintar berhitung ya')          #aksi true 1\n",
        "elif jurusan == \"fisika\":                                 #kondisi 2\n",
        "    print(\"Wow,hebat sekali\")                             #aksi true 2\n",
        "elif jurusan == \"kimia\":                                  #kondisi 3\n",
        "    print(\"Wii, ajarin kimia dong!!\")                     #aksi true 3\n",
        "elif jurusan == \"informatika\":                            #kondisi 4\n",
        "    print(\"Bolehlah ajarin ngoding\")                      #aksi true 4\n",
        "elif jurusan == \"farmasi\":                                #kondisi 5\n",
        "    print(\"Jago buat obat nih\")                           #aksi true 5\n",
        "elif jurusan == \"biologi\":                                #kondisi 6\n",
        "    print('Suka sama tumbuhan ya? Keren')                 #aksi true 6\n",
        "else:\n",
        "    print(\"Yah, aku kurang tahu jurusan itu\")             #aksi false"
      ],
      "metadata": {
        "colab": {
          "base_uri": "https://localhost:8080/"
        },
        "id": "p1QVDEN4Ct6c",
        "outputId": "73bb9229-a1f2-4557-f6d1-f3f5bacb9dd0"
      },
      "execution_count": 48,
      "outputs": [
        {
          "output_type": "stream",
          "name": "stdout",
          "text": [
            "Hai, Bulan\n",
            "Kamu kuliah jurusan apa?matematika\n",
            "Wah, pasti kamu pintar berhitung ya\n"
          ]
        }
      ]
    },
    {
      "cell_type": "code",
      "source": [
        "berat = float(input(\"Berapakah berat belanjaanmu?\"))\n",
        "kg_atau_gram =(input(\"Beratnya dalam kg atau gram?\"))\n",
        "\n",
        "if kg_atau_gram.upper() == 'KG':                                        #kondisi 1\n",
        "    berat = berat*1000\n",
        "    print(\"Berat belanjaanmu adalah \" + str(berat) + \" gram\")           #aksi true 1\n",
        "elif kg_atau_gram.upper() == 'INCI':                                    #kondisi 2\n",
        "    berat = berat/1000\n",
        "    print(f\"Berat belanjaanmu adalah {berat} gram\")                     #aksi true 2"
      ],
      "metadata": {
        "colab": {
          "base_uri": "https://localhost:8080/"
        },
        "id": "n1o8aOfZT0iU",
        "outputId": "8755ebfc-9cd5-4def-f4ff-b4c3cadcac31"
      },
      "execution_count": 50,
      "outputs": [
        {
          "output_type": "stream",
          "name": "stdout",
          "text": [
            "Berapakah berat belanjaanmu?6\n",
            "Beratnya dalam kg atau gram?kg\n",
            "Berat belanjaanmu adalah 6000.0 gram\n"
          ]
        }
      ]
    }
  ]
}
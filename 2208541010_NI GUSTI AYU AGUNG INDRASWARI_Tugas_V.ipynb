{
  "nbformat": 4,
  "nbformat_minor": 0,
  "metadata": {
    "colab": {
      "provenance": [],
      "authorship_tag": "ABX9TyMUpq8ussiFF1+Q0BBTQeU+"
    },
    "kernelspec": {
      "name": "python3",
      "display_name": "Python 3"
    },
    "language_info": {
      "name": "python"
    }
  },
  "cells": [
    {
      "cell_type": "markdown",
      "source": [
        "##**5.16 List 2 Dimensi**\n",
        "List 2 dimensi adalah menempatkan sebuah list di dalam list. Penggambarannya seperti sebuah matriks."
      ],
      "metadata": {
        "id": "2xfFtF-rHLrw"
      }
    },
    {
      "cell_type": "code",
      "execution_count": 1,
      "metadata": {
        "colab": {
          "base_uri": "https://localhost:8080/"
        },
        "id": "qY5wGrU9GRqN",
        "outputId": "c2881c64-49dd-4b56-8c82-5e7002d345ab"
      },
      "outputs": [
        {
          "output_type": "stream",
          "name": "stdout",
          "text": [
            "List terakhir isi tanda koma\n",
            "[[1, 3, 5, 7], [2, 4, 6, 8], [9, 11, 13, 15], [10, 12, 14, 16]]\n",
            "\n",
            "List terakhir tanpa tanda koma\n",
            "[[1, 3, 5, 7], [2, 4, 6, 8], [9, 11, 13, 15], [10, 12, 14, 16]]\n"
          ]
        }
      ],
      "source": [
        "# Latihan list 2 dimensi (1)\n",
        "\n",
        "print('List terakhir isi tanda koma')\n",
        "# Mendeklarasikan variabel berupa list\n",
        "matriks_10 = [\n",
        "    [1,3,5,7],        # Baris ke 0 atau -4\n",
        "    [2,4,6,8],        # Baris ke 1 atau -3\n",
        "    [9,11,13,15],     # Baris ke 2 atau -2\n",
        "    [10,12,14,16],    # Baris ke 3 atau -1\n",
        "]\n",
        "print(matriks_10)\n",
        "\n",
        "print('\\nList terakhir tanpa tanda koma')     # \\n berfungsi untuk membuat paragraf baru\n",
        "matriks_10 = [\n",
        "    [1,3,5,7],\n",
        "    [2,4,6,8],\n",
        "    [9,11,13,15],\n",
        "    [10,12,14,16]\n",
        "]\n",
        "print(matriks_10)\n",
        "\n",
        "# Ingat!!! Setiap akhir list ditambahkan tanda koma, kalau tidak isi akan error\n",
        "# Tapi, list paling terakhir boleh tidak isi tanda koma, boleh juga isi.\n",
        "# Bisa dilihat pada output hasilnya sama baik yang menggunakan tanda koma atau tidak pada list terakhir"
      ]
    },
    {
      "cell_type": "code",
      "source": [
        "# Latihan list  dimensi (2)\n",
        "\n",
        "# Pada matriks, list pertama dari depan disebut baris ke 0, list kedua dari depan disebut baris 1,dst.\n",
        "# Sedangkan list pertama dari belakang disebut baris ke -1, list kedua dari belakang disebut baris -2, dst.\n",
        "# [1,3,5,7] adalah baris ke 0 atau -4\n",
        "# [2,4,6,8] adalah baris ke 1 atau -3\n",
        "# [9,11,13,15] adalah baris ke 2 atau -2\n",
        "# [10,12,14,16] adalah baris ke 3 atau -1\n",
        "\n",
        "print(matriks_10 [2])\n",
        "# Ini artinya memanggil list matriks_10  pada baris ke 2\n",
        "\n",
        "print(matriks_10 [0])\n",
        "# Ini artinya memanggil list matriks_10 baris ke 0\n",
        "\n",
        "print(matriks_10[-1])\n",
        "# Ini artinya memanggil list baris -1 (list pertama dari belakang)"
      ],
      "metadata": {
        "colab": {
          "base_uri": "https://localhost:8080/"
        },
        "id": "TsBspbvnkAf6",
        "outputId": "7aa3b23b-d561-4195-bf01-7bb80ad1066d"
      },
      "execution_count": 2,
      "outputs": [
        {
          "output_type": "stream",
          "name": "stdout",
          "text": [
            "[9, 11, 13, 15]\n",
            "[1, 3, 5, 7]\n",
            "[10, 12, 14, 16]\n"
          ]
        }
      ]
    },
    {
      "cell_type": "code",
      "source": [
        "# Latihan list 2 dimensi (3)\n",
        "\n",
        "# Kolom pada matriks sama seperti baris pada matriks\n",
        "# Kolom pada matriks dimulai dari 0 jika dari list terdepan\n",
        "# Sedangkan jika dari list terbelakang, kolom dimulai dari -1\n",
        "# 1,2,9,10 adalah kolom ke 0 atau -4\n",
        "# 3,4,11,12 adalah kolom ke 1 atau -3\n",
        "# 5,6,13,14 adalah kolom ke 2 atau -2\n",
        "# 7,8,15,16 adalah kolom ke 3 atau -1\n",
        "\n",
        "print(matriks_10[0][2])\n",
        "# Ini artinya memanggil data pada matriks_10 baris ke 0 dan kolom ke 2\n",
        "# [ ] pertama artinya posisi baris\n",
        "# [ ] kedua artinya posisi kolom\n",
        "\n",
        "print(matriks_10[-1][0])\n",
        "# Ini artinya memanggil data pada matriks_10 baris -1 dan kolom ke 0\n",
        "\n",
        "print(matriks_10[-1][-3])\n",
        "# Ini artinya memanggil data pada matriks_10 baris -1 dan kolom -3"
      ],
      "metadata": {
        "colab": {
          "base_uri": "https://localhost:8080/"
        },
        "id": "Eopal2Mytf_Y",
        "outputId": "35540efe-b935-45a8-eada-abcb3d0b0101"
      },
      "execution_count": 3,
      "outputs": [
        {
          "output_type": "stream",
          "name": "stdout",
          "text": [
            "5\n",
            "10\n",
            "12\n"
          ]
        }
      ]
    },
    {
      "cell_type": "code",
      "source": [
        "#Latihan list 2 dimensi (4) \n",
        "# Mengganti data pada list\n",
        "\n",
        "matriks_10[0][3] = 20\n",
        "# Disini artinya mengganti data list baris ke 0 dan kolom ke 3 yang seharusnya adalah 5 menjadi 20\n",
        "print(matriks_10[0][3])\n",
        "\n",
        "matriks_10[-1][2] = 6\n",
        "# Disini artinya mengganti data list baris -1 dan kolom ke 2 yang seharusnya adalah 10 menjadi 6\n",
        "print(matriks_10[-1][2])"
      ],
      "metadata": {
        "colab": {
          "base_uri": "https://localhost:8080/"
        },
        "id": "tcDHpUlc8i_C",
        "outputId": "c43bc7ca-f1c9-4416-ed5a-3ad6333e4c4a"
      },
      "execution_count": 4,
      "outputs": [
        {
          "output_type": "stream",
          "name": "stdout",
          "text": [
            "20\n",
            "6\n"
          ]
        }
      ]
    },
    {
      "cell_type": "code",
      "source": [
        "# Latihan list 2 dimensi (5)\n",
        "\n",
        "# Disini saya memanggil semua data pada matriks_10\n",
        "matriks_10\n",
        "# Output yang dihasilkan berbeda dengan pada latihan list 2 dimensi (1)\n",
        "# Hal ini karena, sebelumnya saya sudah mengganti beberapa data list dengan data lain\n",
        "# Sehingga, data tersebut menggantikan posisi data sebelumnya"
      ],
      "metadata": {
        "colab": {
          "base_uri": "https://localhost:8080/"
        },
        "id": "BvzVkLVU-OFL",
        "outputId": "b39ebe80-c6d8-4fa7-feba-f857579f36db"
      },
      "execution_count": 5,
      "outputs": [
        {
          "output_type": "execute_result",
          "data": {
            "text/plain": [
              "[[1, 3, 5, 20], [2, 4, 6, 8], [9, 11, 13, 15], [10, 12, 6, 16]]"
            ]
          },
          "metadata": {},
          "execution_count": 5
        }
      ]
    },
    {
      "cell_type": "markdown",
      "source": [
        "##**5.17 Tuples**\n",
        "Tuples mirip seperti list, tetapi tuples tidak dapat dirubah isinya."
      ],
      "metadata": {
        "id": "ZW-sA7doCqPT"
      }
    },
    {
      "cell_type": "code",
      "source": [
        "# Latihan tuples (1)\n",
        "\n",
        "# Mendeklarasikan variabel\n",
        "tuples_10 = (3,4,5,6,7,8,9,4,6,8)\n",
        "# Berbeda dengan list, tuples menggunakan tanda kurung biasa\n",
        "print(tuples_10)"
      ],
      "metadata": {
        "colab": {
          "base_uri": "https://localhost:8080/"
        },
        "id": "8GkVhkiDDZ4Q",
        "outputId": "57bfbb09-b455-4830-e70d-acd8f0ce472d"
      },
      "execution_count": 6,
      "outputs": [
        {
          "output_type": "stream",
          "name": "stdout",
          "text": [
            "(3, 4, 5, 6, 7, 8, 9, 4, 6, 8)\n"
          ]
        }
      ]
    },
    {
      "cell_type": "code",
      "source": [
        "# Latihan tuples (2)\n",
        "\n",
        "# Fungs append, remove, insert, dll tidak bisa digunakan karena data pada tuples tidak dapat dirubah\n",
        "tuples_10.append(10)\n",
        "tuples_10.remove(5)\n",
        "# Perintah di atas akan error karena pada tuples tidak bisa menggunakan fungsi 'append', 'remove', dll seperti pada list"
      ],
      "metadata": {
        "id": "0LfGd0vRRET2",
        "colab": {
          "base_uri": "https://localhost:8080/",
          "height": 235
        },
        "outputId": "546b3490-3a84-4a2d-ccea-a15db9b1467a"
      },
      "execution_count": 7,
      "outputs": [
        {
          "output_type": "error",
          "ename": "AttributeError",
          "evalue": "ignored",
          "traceback": [
            "\u001b[0;31m---------------------------------------------------------------------------\u001b[0m",
            "\u001b[0;31mAttributeError\u001b[0m                            Traceback (most recent call last)",
            "\u001b[0;32m<ipython-input-7-3a2251c0f14e>\u001b[0m in \u001b[0;36m<cell line: 4>\u001b[0;34m()\u001b[0m\n\u001b[1;32m      2\u001b[0m \u001b[0;34m\u001b[0m\u001b[0m\n\u001b[1;32m      3\u001b[0m \u001b[0;31m# Fungs append, remove, insert, dll tidak bisa digunakan karena data pada tuples tidak dapat dirubah\u001b[0m\u001b[0;34m\u001b[0m\u001b[0;34m\u001b[0m\u001b[0m\n\u001b[0;32m----> 4\u001b[0;31m \u001b[0mtuples_10\u001b[0m\u001b[0;34m.\u001b[0m\u001b[0mappend\u001b[0m\u001b[0;34m(\u001b[0m\u001b[0;36m10\u001b[0m\u001b[0;34m)\u001b[0m\u001b[0;34m\u001b[0m\u001b[0;34m\u001b[0m\u001b[0m\n\u001b[0m\u001b[1;32m      5\u001b[0m \u001b[0mtuples_10\u001b[0m\u001b[0;34m.\u001b[0m\u001b[0mremove\u001b[0m\u001b[0;34m(\u001b[0m\u001b[0;36m5\u001b[0m\u001b[0;34m)\u001b[0m\u001b[0;34m\u001b[0m\u001b[0;34m\u001b[0m\u001b[0m\n\u001b[1;32m      6\u001b[0m \u001b[0;31m# Perintah di atas akan error karena pada tuples tidak bisa menggunakan fungsi 'append', 'remove', dll seperti pada list\u001b[0m\u001b[0;34m\u001b[0m\u001b[0;34m\u001b[0m\u001b[0m\n",
            "\u001b[0;31mAttributeError\u001b[0m: 'tuple' object has no attribute 'append'"
          ]
        }
      ]
    },
    {
      "cell_type": "code",
      "source": [
        "# Latihan tuples (3)\n",
        "\n",
        "# Pada tuples hanya bisa menggunakan fungsi 'count' dan 'index'\n",
        "# count berfungsi untuk menghitung berapa banyak data muncul pada suatu variabel.\n",
        "print(tuples_10.count(4))\n",
        "print(tuples_10.count(5))\n",
        "\n",
        "# index berfungsi untuk mengetahui posisi data yang ingin kita ketahui pada suatu variabel\n",
        "# Sama seperti sebelumnya index dimulai dari 0\n",
        "print(tuples_10.index(9))\n",
        "\n",
        "# Mencari posisi data menggunakan batas \n",
        "print(tuples_10[0:5])\n",
        "# Ingat!! Batas akhir tidak ikut dicetak"
      ],
      "metadata": {
        "id": "F9dS998DAPOp",
        "colab": {
          "base_uri": "https://localhost:8080/"
        },
        "outputId": "53aacf74-7a51-4cc2-b5ab-309de600d1cc"
      },
      "execution_count": 8,
      "outputs": [
        {
          "output_type": "stream",
          "name": "stdout",
          "text": [
            "2\n",
            "1\n",
            "6\n",
            "(3, 4, 5, 6, 7)\n"
          ]
        }
      ]
    },
    {
      "cell_type": "code",
      "source": [
        "# Latihan tuples (4)\n",
        "\n",
        "# Mencetak semua data pada tuples_10 satu per satu\n",
        "for data in tuples_10:\n",
        "  print(data)"
      ],
      "metadata": {
        "colab": {
          "base_uri": "https://localhost:8080/"
        },
        "id": "x3fEdX-P2XTB",
        "outputId": "9d531928-04fe-4346-e059-caba1d4352c3"
      },
      "execution_count": 9,
      "outputs": [
        {
          "output_type": "stream",
          "name": "stdout",
          "text": [
            "3\n",
            "4\n",
            "5\n",
            "6\n",
            "7\n",
            "8\n",
            "9\n",
            "4\n",
            "6\n",
            "8\n"
          ]
        }
      ]
    },
    {
      "cell_type": "markdown",
      "source": [
        "##**5.18 Dictionaries**\n",
        "Dictionaries digunakan jika datanya terkait satu sama lain. Dictionary nama lainnya adalah associative array."
      ],
      "metadata": {
        "id": "uFae-F5E5AvW"
      }
    },
    {
      "cell_type": "code",
      "source": [
        "# Latihan dictionaries (1)\n",
        "\n",
        "# Untuk mengakses data pada dictionaries kita menggunakan indentifies disebut key\n",
        "# Sehingga untuk mengakses data tidak menggunakan index seperti pada list\n",
        "\n",
        "# Mendeklarasikan variabel\n",
        "data_10 = {\n",
        "    'nama' : 'Universitas Udayana',\n",
        "    'fakultas' : '13 Fakultas',\n",
        "    'Apakah kampus negeri?' : True\n",
        "}\n",
        "# Dictionaries menggunakan kurung kurawal \"{ }\"\n",
        "# 'nama', 'fakultas', 'Apakah kampus negeri' adalah key\n",
        "# 'Universitas Udaya', '13 Falkultas', dan True adalah value\n",
        "# Pada value bisa dimasukkan data berupa apapun baik itu string, boolean, list, dll\n",
        "# Antara key dan value dipisahkan oleh tanda titik dua ':'\n",
        "\n",
        "print(data_10['nama'])\n",
        "print(data_10['Fakultas'])      # Ini akan error karena key 'Fakultas' tidak ada pada variabel data_10"
      ],
      "metadata": {
        "colab": {
          "base_uri": "https://localhost:8080/",
          "height": 218
        },
        "id": "yK4nAlnX4_q7",
        "outputId": "0ab6378e-9237-44a2-f46c-a7e70abfb0fb"
      },
      "execution_count": 10,
      "outputs": [
        {
          "output_type": "stream",
          "name": "stdout",
          "text": [
            "Universitas Udayana\n"
          ]
        },
        {
          "output_type": "error",
          "ename": "KeyError",
          "evalue": "ignored",
          "traceback": [
            "\u001b[0;31m---------------------------------------------------------------------------\u001b[0m",
            "\u001b[0;31mKeyError\u001b[0m                                  Traceback (most recent call last)",
            "\u001b[0;32m<ipython-input-10-bb247f934942>\u001b[0m in \u001b[0;36m<cell line: 19>\u001b[0;34m()\u001b[0m\n\u001b[1;32m     17\u001b[0m \u001b[0;34m\u001b[0m\u001b[0m\n\u001b[1;32m     18\u001b[0m \u001b[0mprint\u001b[0m\u001b[0;34m(\u001b[0m\u001b[0mdata_10\u001b[0m\u001b[0;34m[\u001b[0m\u001b[0;34m'nama'\u001b[0m\u001b[0;34m]\u001b[0m\u001b[0;34m)\u001b[0m\u001b[0;34m\u001b[0m\u001b[0;34m\u001b[0m\u001b[0m\n\u001b[0;32m---> 19\u001b[0;31m \u001b[0mprint\u001b[0m\u001b[0;34m(\u001b[0m\u001b[0mdata_10\u001b[0m\u001b[0;34m[\u001b[0m\u001b[0;34m'Fakultas'\u001b[0m\u001b[0;34m]\u001b[0m\u001b[0;34m)\u001b[0m      \u001b[0;31m# Ini akan error karena key 'Fakultas' tidak ada pada variabel data_10\u001b[0m\u001b[0;34m\u001b[0m\u001b[0;34m\u001b[0m\u001b[0m\n\u001b[0m",
            "\u001b[0;31mKeyError\u001b[0m: 'Fakultas'"
          ]
        }
      ]
    },
    {
      "cell_type": "code",
      "source": [
        "# Latihan dictionaries 2 \n",
        "# Mencari panjang dictionaries\n",
        "lendata_10 = len(data_10)\n",
        "print(f'Panjang dictionaries adalah', lendata_10)"
      ],
      "metadata": {
        "id": "BHoIJMurCHq1",
        "colab": {
          "base_uri": "https://localhost:8080/"
        },
        "outputId": "ffe63ee1-9c10-4273-8932-be3a465fd2eb"
      },
      "execution_count": 11,
      "outputs": [
        {
          "output_type": "stream",
          "name": "stdout",
          "text": [
            "Panjang dictionaries adalah 3\n"
          ]
        }
      ]
    },
    {
      "cell_type": "code",
      "source": [
        "# Latihan dictionaries 3\n",
        "# Mengecek key ada atau tidak pada variabel\n",
        "\n",
        "key = 'nama'\n",
        "checkkey = key in data_10\n",
        "print(f\"Apakah {key} ada di data ?\", checkkey)    # Menggunakan formatted string\n",
        "# Outputnya akan True karena key 'nama' ada pada variabel data_10\n",
        "\n",
        "key = 'umur'\n",
        "checkkey = key in data_10\n",
        "print(f\"Apakah {key} ada di data ?\", checkkey)\n",
        "# Output akan False karena key 'umur' tidak ada pada variabel data_10"
      ],
      "metadata": {
        "colab": {
          "base_uri": "https://localhost:8080/"
        },
        "id": "Mp5HohxOUaFR",
        "outputId": "d849378c-3187-430c-ba63-415427af200c"
      },
      "execution_count": 12,
      "outputs": [
        {
          "output_type": "stream",
          "name": "stdout",
          "text": [
            "Apakah nama ada di data ? True\n",
            "Apakah umur ada di data ? False\n"
          ]
        }
      ]
    },
    {
      "cell_type": "code",
      "source": [
        "# Latihan dictionaries 4\n",
        "# Memanggil value pada variabel menggunakan get\n",
        "# Memanggil value pada dictionaries bisa tanpa menggunakan 'get'\n",
        "# Namun, saat key ataupun value tidak ada pada variabel, program akan error.\n",
        "# Untuk itu, digunakanlah 'get'\n",
        "\n",
        "print('Ini tanpa menggunakan \"get\"')\n",
        "print(data_10['fakultas'])\n",
        "print('\\nIni menggunakan \"get\"')\n",
        "print(data_10.get('fakultas'))\n",
        "\n",
        "print('\\nBisa dilihat outputnya sama baik yang menggunakan get atau tidak')\n",
        "print('Outputnya akan berbeda saat key atau value tidak ada pada variabel')\n",
        "print('\\nIni saat key ataupun value tidak ada pada variabel')\n",
        "print(data_10.get('tahun'))                                 # Menggunakan 'get' maka outputnya akan 'none'\n",
        "print(data_10.get('tahun', 'Key \"tahun\" tidak ditemukan'))  # Bahkan saat menggunakan get, kita bisa mengganti output 'none'\n",
        "print(data_10['tahun'])                                     # Tanpa menggunakan 'get', outputnya akan error"
      ],
      "metadata": {
        "colab": {
          "base_uri": "https://localhost:8080/",
          "height": 409
        },
        "id": "_8HRKQ2sWtUL",
        "outputId": "abafd7b9-b661-4be3-ab05-61076e97eef7"
      },
      "execution_count": 13,
      "outputs": [
        {
          "output_type": "stream",
          "name": "stdout",
          "text": [
            "Ini tanpa menggunakan \"get\"\n",
            "13 Fakultas\n",
            "\n",
            "Ini menggunakan \"get\"\n",
            "13 Fakultas\n",
            "\n",
            "Bisa dilihat outputnya sama baik yang menggunakan get atau tidak\n",
            "Outputnya akan berbeda saat key atau value tidak ada pada variabel\n",
            "\n",
            "Ini saat key ataupun value tidak ada pada variabel\n",
            "None\n",
            "Key \"tahun\" tidak ditemukan\n"
          ]
        },
        {
          "output_type": "error",
          "ename": "KeyError",
          "evalue": "ignored",
          "traceback": [
            "\u001b[0;31m---------------------------------------------------------------------------\u001b[0m",
            "\u001b[0;31mKeyError\u001b[0m                                  Traceback (most recent call last)",
            "\u001b[0;32m<ipython-input-13-276a9ae90cac>\u001b[0m in \u001b[0;36m<cell line: 17>\u001b[0;34m()\u001b[0m\n\u001b[1;32m     15\u001b[0m \u001b[0mprint\u001b[0m\u001b[0;34m(\u001b[0m\u001b[0mdata_10\u001b[0m\u001b[0;34m.\u001b[0m\u001b[0mget\u001b[0m\u001b[0;34m(\u001b[0m\u001b[0;34m'tahun'\u001b[0m\u001b[0;34m)\u001b[0m\u001b[0;34m)\u001b[0m                                 \u001b[0;31m# Menggunakan 'get' maka outputnya akan 'none'\u001b[0m\u001b[0;34m\u001b[0m\u001b[0;34m\u001b[0m\u001b[0m\n\u001b[1;32m     16\u001b[0m \u001b[0mprint\u001b[0m\u001b[0;34m(\u001b[0m\u001b[0mdata_10\u001b[0m\u001b[0;34m.\u001b[0m\u001b[0mget\u001b[0m\u001b[0;34m(\u001b[0m\u001b[0;34m'tahun'\u001b[0m\u001b[0;34m,\u001b[0m \u001b[0;34m'Key \"tahun\" tidak ditemukan'\u001b[0m\u001b[0;34m)\u001b[0m\u001b[0;34m)\u001b[0m  \u001b[0;31m# Bahkan saat menggunakan get, kita bisa mengganti output 'none'\u001b[0m\u001b[0;34m\u001b[0m\u001b[0;34m\u001b[0m\u001b[0m\n\u001b[0;32m---> 17\u001b[0;31m \u001b[0mprint\u001b[0m\u001b[0;34m(\u001b[0m\u001b[0mdata_10\u001b[0m\u001b[0;34m[\u001b[0m\u001b[0;34m'tahun'\u001b[0m\u001b[0;34m]\u001b[0m\u001b[0;34m)\u001b[0m                                     \u001b[0;31m# Tanpa menggunakan 'get', outputnya akan error\u001b[0m\u001b[0;34m\u001b[0m\u001b[0;34m\u001b[0m\u001b[0m\n\u001b[0m",
            "\u001b[0;31mKeyError\u001b[0m: 'tahun'"
          ]
        }
      ]
    },
    {
      "cell_type": "code",
      "source": [
        "# Latihan dictionaries 5\n",
        "# Memperbarui atau menambahkan dictionaries menggunakan 'update'\n",
        "print('Dictionaries yang sudah ditambahkan data baru')\n",
        "data_10.update({'letak':'Provinsi Bali'})\n",
        "print(data_10)\n",
        "# Data pada dictionaries akan otomatis diperbarui atau ditambahkan dengan data yang diinginkan"
      ],
      "metadata": {
        "colab": {
          "base_uri": "https://localhost:8080/"
        },
        "id": "1ruqaEwYboVt",
        "outputId": "d9ef4ace-19d0-4d75-fec7-cae6e2fd1a91"
      },
      "execution_count": 14,
      "outputs": [
        {
          "output_type": "stream",
          "name": "stdout",
          "text": [
            "Dictionaries yang sudah ditambahkan data baru\n",
            "{'nama': 'Universitas Udayana', 'fakultas': '13 Fakultas', 'Apakah kampus negeri?': True, 'letak': 'Provinsi Bali'}\n"
          ]
        }
      ]
    },
    {
      "cell_type": "code",
      "source": [
        "# Menghapus data pada dictionaries menggunakan 'del'\n",
        "print('Dictionaries yang dihapus salah satu datanya')\n",
        "del data_10['fakultas']\n",
        "print(data_10)"
      ],
      "metadata": {
        "colab": {
          "base_uri": "https://localhost:8080/"
        },
        "id": "Q07fSB4HiZEp",
        "outputId": "c2a5ec08-4b68-4eca-d67e-cf945495288c"
      },
      "execution_count": 15,
      "outputs": [
        {
          "output_type": "stream",
          "name": "stdout",
          "text": [
            "Dictionaries yang dihapus salah satu datanya\n",
            "{'nama': 'Universitas Udayana', 'Apakah kampus negeri?': True, 'letak': 'Provinsi Bali'}\n"
          ]
        }
      ]
    },
    {
      "cell_type": "code",
      "source": [
        "# Latihan dictionaries 6 membuat jadwal kuliah\n",
        "# Mencoba membuat dictionary dalam dictionary\n",
        "\n",
        "# Mendeklarasikan beberapa dictionary\n",
        "matkul1_10 = {\n",
        "    'nama': 'Algoritma dan Struktur Data',\n",
        "    'sks' : 3,\n",
        "    'hari' : 'Senin',\n",
        "    'jam' : '08.30 - 11.10'\n",
        "}\n",
        "\n",
        "matkul2_10 = {\n",
        "    'nama': 'Struktur Aljabar',\n",
        "    'sks' : 2,\n",
        "    'hari' : 'Senin',\n",
        "    'jam' : '11.10 - 13.00'\n",
        "}\n",
        "\n",
        "matkul3_10 = {\n",
        "    'nama': 'Kalkulus II',\n",
        "    'sks' : 3,\n",
        "    'hari' : 'Selasa',\n",
        "    'jam' : '08.30 - 11.10'\n",
        "}\n",
        "\n",
        "matkul4_10 = {\n",
        "    'nama': 'Statistika Dasar',\n",
        "    'sks' : 3,\n",
        "    'hari' : 'Selasa',\n",
        "    'jam' : '11.10 - 13.50'\n",
        "}\n",
        "\n",
        "datamatkul_10 = {\n",
        "    'mat1' : matkul1_10,\n",
        "    'mat2' : matkul2_10,\n",
        "    'mat3' : matkul3_10,\n",
        "    'mat4' : matkul4_10\n",
        " }\n",
        "\n",
        "print('Berikut adalah jadwal kuliah anda selama semester genap\\n')\n",
        "print(f\"{'KODE':^5} {'NAMA':^30} {'SKS':^3} {'HARI':^7} {'JAM':^13}\")\n",
        "# tanda '^' berfungsi agar tulisan dicetak ditengah-tengah (center)\n",
        "print('='*65) \n",
        "\n",
        "# Melakukan for loop pada datamatkul_10\n",
        "for matkul in datamatkul_10:\n",
        "  key = matkul\n",
        "\n",
        "  nama = datamatkul_10[key]['nama']\n",
        "  sks = datamatkul_10[key]['sks']\n",
        "  hari = datamatkul_10[key]['hari']\n",
        "  jam = datamatkul_10[key]['jam']\n",
        "  print(f\"{key:^5} {nama:^30} {sks:^3} {hari:^7} {jam:^13}\")\n",
        "\n",
        "print('\\nSelamat belajar!!')"
      ],
      "metadata": {
        "colab": {
          "base_uri": "https://localhost:8080/"
        },
        "id": "ojeKqNgNk3Sv",
        "outputId": "d41cb11f-6966-4a79-80f8-0e7490345fc1"
      },
      "execution_count": 16,
      "outputs": [
        {
          "output_type": "stream",
          "name": "stdout",
          "text": [
            "Berikut adalah jadwal kuliah anda selama semester genap\n",
            "\n",
            "KODE               NAMA              SKS  HARI        JAM     \n",
            "=================================================================\n",
            "mat1   Algoritma dan Struktur Data    3   Senin  08.30 - 11.10\n",
            "mat2         Struktur Aljabar         2   Senin  11.10 - 13.00\n",
            "mat3           Kalkulus II            3  Selasa  08.30 - 11.10\n",
            "mat4         Statistika Dasar         3  Selasa  11.10 - 13.50\n",
            "\n",
            "Selamat belajar!!\n"
          ]
        }
      ]
    },
    {
      "cell_type": "code",
      "source": [
        "# Latihan dictionaries 7\n",
        "# Membuat program untuk merubah NIM yang berupa angka menjadi sebutan bilangan tersebut.\n",
        "\n",
        "angka_10 = {\n",
        "    '0' : 'nol',\n",
        "    '1' : 'satu',\n",
        "    '2' : 'dua',\n",
        "    '3' : 'tiga',\n",
        "    '4' : 'empat',\n",
        "    '5' : 'lima',\n",
        "    '6' : 'enam',\n",
        "    '7' : 'tujuh',\n",
        "    '8' : 'delapan',\n",
        "    '9' : 'sembilan',\n",
        "}\n",
        "\n",
        "nama_10 = input('Nama : ')\n",
        "nim_10 = input('NIM : ')\n",
        "nim_angka_10 = \" \"\n",
        "for data in nim_10 :\n",
        "  nim_angka_10 += angka_10.get(data) + \" \"\n",
        "print('NIM anda dalam sebutan bilangan antara lain :')\n",
        "print(nim_angka_10)"
      ],
      "metadata": {
        "colab": {
          "base_uri": "https://localhost:8080/"
        },
        "id": "4CAMsxl1CklN",
        "outputId": "15d088e0-1be9-48a8-a34e-ec4f859d7d36"
      },
      "execution_count": 17,
      "outputs": [
        {
          "output_type": "stream",
          "name": "stdout",
          "text": [
            "Nama : NI GUSTI AYU AGUNG INDRASWARI\n",
            "NIM : 2208541010\n",
            "NIM anda dalam sebutan bilangan antara lain :\n",
            " dua dua nol delapan lima empat satu nol satu nol \n"
          ]
        }
      ]
    },
    {
      "cell_type": "markdown",
      "source": [
        "##**5.19 Fungsi dalam Python**\n",
        "Tanpa disadari, dalam praktik-praktik sebelumnya telah menerapkan beberapa fungsi pada *Python* seperti fungsi *input*, *print, len, range*, dll.\n",
        "\n",
        "Fungsi dibentuk untuk menghindari pengulangan yang tinggi dalam program yang kita buat. \n",
        "\n",
        "Jadi untuk mempermudah dan meringkas program yang kita buat, setiap fungsi tersebut dibutuhkan tinggal kita panggil.\n",
        "\n",
        "\n",
        "\n"
      ],
      "metadata": {
        "id": "td8svTfh7XZg"
      }
    },
    {
      "cell_type": "code",
      "source": [
        "# Latihan fungsi dalam python (1)\n",
        "\n",
        "# Fungsi diawali dengan 'def'\n",
        "def Halo_semuanya ():       # Fungsi didefinisikan\n",
        "  print('Halo semuanya')\n",
        "Halo_semuanya()             # Fungsi dipanggil\n",
        "\n",
        "# Fungsi harus didefinisikan terlebih dahulu, baru dipanggil\n",
        "# Jika dipanggil terlebih dahulu baru didefinisikan fungsi akan error\n",
        "\n",
        "# Fungsi dengan argument (input)\n",
        "# Argument dimasukkan di dalam tanda kurung biasa ( )\n",
        "# Argument bisa berupa apapun baik string, angka, list, dll\n",
        "\n",
        "print('\\nDi bawah ini fungsi dengan input berupa string')\n",
        "def tugas(matkul):                                                # Fungsi didefinisikan\n",
        "  # Fungsi tugas menerima argument/input dengan variabel matkul\n",
        "  print(f\"Selamat mengerjakan tugas {matkul}\")                    \n",
        "tugas('algoritma dan struktur data')                              # Fungsi dipanggil\n",
        "\n",
        "print('\\nDi bawah ini fungsi dengan input berupa integer')\n",
        "def sepatu(ukuran):\n",
        "  print(f\"Ukuran sepatu anda adalah {ukuran}\")\n",
        "sepatu(40)"
      ],
      "metadata": {
        "id": "aza27rbkwGzQ",
        "colab": {
          "base_uri": "https://localhost:8080/"
        },
        "outputId": "6201f2c9-b1ec-4522-acef-4a4eb6580b15"
      },
      "execution_count": 18,
      "outputs": [
        {
          "output_type": "stream",
          "name": "stdout",
          "text": [
            "Halo semuanya\n",
            "\n",
            "Di bawah ini fungsi dengan input berupa string\n",
            "Selamat mengerjakan tugas algoritma dan struktur data\n",
            "\n",
            "Di bawah ini fungsi dengan input berupa integer\n",
            "Ukuran sepatu anda adalah 40\n"
          ]
        }
      ]
    },
    {
      "cell_type": "markdown",
      "source": [
        "##**5.19.1 Tugas Fungsi pada Python**\n",
        "Ada dua jenis fungsi pada *Python* yaitu :\n",
        "\n",
        "1. Menjalankan perintah.\n",
        "2. Menampilkan hasil perhitungan\n",
        "\n"
      ],
      "metadata": {
        "id": "e5tRHTGxCDJS"
      }
    },
    {
      "cell_type": "code",
      "source": [
        "# Latihan tugas fungsi pada python (1)\n",
        "\n",
        "# Fungsi dengan return\n",
        "# return berfungsi untuk memanggil kembali variabel dari suatu fungsi\n",
        "\n",
        "# Deklarasi fungsi bagi2\n",
        "def bagi2 (angka):     # Disini saya membuat fungsi pembagian2 dengan input (10)\n",
        "  hasil_10 = angka / 2      # Lalu, input (10) akan dibagi 2 menghasilkan 5.0\n",
        "  return hasil_10           # Hasilnya dari operasi fungsinya akan dicetak kembali\n",
        "a_10 = bagi2(10)\n",
        "print(a_10)\n",
        "\n",
        "b_10 = 10 + bagi2(7)\n",
        "print(b_10)\n",
        "# Disini saya mencoba dengan input yang berbeda\n",
        "# Prosesnya tetep sama seperti sebelumnya\n",
        "# Tapi, setelah input dibagi 2, hasilnya ditambahkan 10\n",
        "# 7 / 2 = 3.5, kemudian 3.5 + 10 = 13.5\n",
        "# Maka yang menjadi outputnya adalah 13.5 bukan 3.5\n",
        "\n",
        "# Mencoba fungsi dengan banyak return\n",
        "# Mendeklarasikan fungsi takukaba (tambah, kurang, kali, bagi)\n",
        "# Pada fungsi dapat menginput lebih dari satu argumen/input\n",
        "def takukaba (angka_1,angka_2):\n",
        "  tambah = angka_1 + angka_2\n",
        "  kurang = angka_1 - angka_2\n",
        "  kali = angka_1 * angka_2\n",
        "  bagi = angka_1 / angka_2\n",
        "  return tambah, kurang, kali, bagi     # Gunakan tanda koma sebagai pemisah antar return\n",
        "\n",
        "o,p,q,r = takukaba(15,4)\n",
        "print(f\"Hasil tambah = {o}\")  # o sebagai variabel operasi tambah\n",
        "print(f\"Hasil kurang = {p}\")  # p sebagai variabel operasi kurang\n",
        "print(f\"Hasil kali = {q}\")    # q sebagai variabel operasi kali\n",
        "print(f\"Hasil bagi = {r}\")    # r sebagai variabel operasi bagi\n",
        "# Perintah print diatas menggunakan forrmatted string"
      ],
      "metadata": {
        "colab": {
          "base_uri": "https://localhost:8080/"
        },
        "id": "W502XDjGPg9n",
        "outputId": "a356c352-8b94-4c73-dfad-c8d0b778d385"
      },
      "execution_count": 19,
      "outputs": [
        {
          "output_type": "stream",
          "name": "stdout",
          "text": [
            "5.0\n",
            "13.5\n",
            "Hasil tambah = 19\n",
            "Hasil kurang = 11\n",
            "Hasil kali = 60\n",
            "Hasil bagi = 3.75\n"
          ]
        }
      ]
    },
    {
      "cell_type": "markdown",
      "source": [
        "##**5.20 Numpy**\n",
        "Numpy adalah salah satu *Library* dalam *Python* yang memiliki keunggulan dalam perhitungan bektor dan matriks dalam berbagai dimensi."
      ],
      "metadata": {
        "id": "iUFJAs_qCc8r"
      }
    },
    {
      "cell_type": "code",
      "source": [
        "# Hal pertama yang perlu dilakukan adalah memanggil Library Numpy sebagai berikut\n",
        "import numpy as np"
      ],
      "metadata": {
        "id": "bQDNSA6tIUOO"
      },
      "execution_count": 20,
      "outputs": []
    },
    {
      "cell_type": "markdown",
      "source": [
        "##**5.20.1 Perintah Dasar pada Numpy**\n"
      ],
      "metadata": {
        "id": "gO4qIo3KImK4"
      }
    },
    {
      "cell_type": "code",
      "source": [
        "# Mendeklarasikan numpy\n",
        "import numpy as np\n",
        "# Mendeklarasikan variabel dengan fungsi array pada numpy\n",
        "n_10 = np.array([2,3,4,5])\n",
        "print('Ini adalah data array yang pertama : ', n_10)\n",
        "a1 = n_10.ndim\n",
        "b1 = n_10.shape\n",
        "print('Dengan banyak baris ', a1, 'dan ordo', b1, '\\n')\n",
        "\n",
        "# Mendeklarasikan variabel baru berupa matriks\n",
        "o_10 = np.array ([[3,4,5,6],\n",
        "                  [7,8,9,10]])\n",
        "print('Ini adalah data array yang kedua :', o_10 )\n",
        "\n",
        "a2 = o_10.ndim\n",
        "# fungsi 'ndim' berfungsi untuk menghitung banyaknya baris pada numpy\n",
        "b2 = o_10.shape\n",
        "# fungsi 'shape' berfungsi untuk menghitung ordo pada numpy\n",
        "print('Dengan banyak baris ', a2, 'dan ordo', b2, '\\n')\n",
        "\n",
        "\n",
        "p_10 = np.array([\n",
        "    [1,2,3,4],[2,3,4,5],\n",
        "    [3,4,5,6],[4,5,6,7],\n",
        "    [5,6,7,8],[6,7,8,9],\n",
        "    [7,8,9,10],[8,9,10,11]\n",
        "])\n",
        "print('\\nIni adalah daya array yang ketiga', p_10)\n",
        "a3 = p_10.ndim\n",
        "b3 = p_10.shape\n",
        "print('Dengan banyak baris ', a3, 'dan ordo', b3, '\\n')"
      ],
      "metadata": {
        "colab": {
          "base_uri": "https://localhost:8080/"
        },
        "id": "Vhf-vsxQAQnR",
        "outputId": "5f5b7392-4a64-4fc6-9cbb-ab6f1b39d4e2"
      },
      "execution_count": 21,
      "outputs": [
        {
          "output_type": "stream",
          "name": "stdout",
          "text": [
            "Ini adalah data array yang pertama :  [2 3 4 5]\n",
            "Dengan banyak baris  1 dan ordo (4,) \n",
            "\n",
            "Ini adalah data array yang kedua : [[ 3  4  5  6]\n",
            " [ 7  8  9 10]]\n",
            "Dengan banyak baris  2 dan ordo (2, 4) \n",
            "\n",
            "\n",
            "Ini adalah daya array yang ketiga [[ 1  2  3  4]\n",
            " [ 2  3  4  5]\n",
            " [ 3  4  5  6]\n",
            " [ 4  5  6  7]\n",
            " [ 5  6  7  8]\n",
            " [ 6  7  8  9]\n",
            " [ 7  8  9 10]\n",
            " [ 8  9 10 11]]\n",
            "Dengan banyak baris  2 dan ordo (8, 4) \n",
            "\n"
          ]
        }
      ]
    },
    {
      "cell_type": "markdown",
      "source": [
        "##**5.20.2 Memanggil Anggota, Kolom, dan Baris dengan Numpy**"
      ],
      "metadata": {
        "id": "omueK640IzAc"
      }
    },
    {
      "cell_type": "code",
      "source": [
        "# Mendeklarasikan numpy\n",
        "import numpy as np\n",
        "\n",
        "# Mendeklarasikan variabel dengan fungsi array pada numpy\n",
        "q_10 = np.array([\n",
        "    [1,3,5,7],[2,4,6,8],[9,11,13,15]\n",
        "])\n",
        "print('Terdapat data array sebagai berikut :\\n', q_10)\n",
        "\n",
        "# Mendeklarasikan variabel dengan penjumlahan bertipe integer\n",
        "r_10 = int(q_10[0,2]) + int(q_10[1,3])\n",
        "print('\\nHasil dari penjumlahan baris ke 0, kolom ke 2 dan baris ke 1, kolom ke 3 adalah ',r_10)\n",
        "\n",
        "# Mendeklarasikan variabel untuk mencari index pertama pada seluruh data array\n",
        "s_10 = q_10 [:,1]\n",
        "print('\\nBerikut urutan data pertama pada seluruh baris : ', s_10)\n",
        "\n",
        "# Mendeklarasikan variabel untuk mencari seluruh index data array\n",
        "t_10 = q_10[0,:]\n",
        "print('\\nBerikut urutan seluruh data dari baris ke 0 : ', t_10)\n",
        "\n",
        "# Mendeklarasikan variabel untuk mencari index 1:3 pada data array ke 1\n",
        "u_10 = q_10 [1,1:3]\n",
        "print(u_10)\n",
        "\n",
        "# Mendeklarasikan variabel untu mencari index 0:3:3 pada data array ke 2\n",
        "v_10 = q_10[1, 0:3:3]\n",
        "print(v_10)\n",
        "\n",
        "# Mendeklarasikan variabel untuk mengganti index 2 pada data array ke 1\n",
        "q_10[1,2] = 20\n",
        "print(q_10)"
      ],
      "metadata": {
        "colab": {
          "base_uri": "https://localhost:8080/"
        },
        "id": "nMCcw0f_J4CC",
        "outputId": "ae2aba7b-8afc-41e2-9d43-2b0cceff8ae9"
      },
      "execution_count": 12,
      "outputs": [
        {
          "output_type": "stream",
          "name": "stdout",
          "text": [
            "Terdapat data array sebagai berikut :\n",
            " [[ 1  3  5  7]\n",
            " [ 2  4  6  8]\n",
            " [ 9 11 13 15]]\n",
            "\n",
            "Hasil dari penjumlahan baris ke 0, kolom ke 2 dan baris ke 1, kolom ke 3 adalah  13\n",
            "\n",
            "Berikut urutan data pertama pada seluruh baris :  [ 3  4 11]\n",
            "\n",
            "Berikut urutan seluruh data dari baris ke 0 :  [1 3 5 7]\n",
            "[4 6]\n",
            "[2]\n",
            "[[ 1  3  5  7]\n",
            " [ 2  4 20  8]\n",
            " [ 9 11 13 15]]\n"
          ]
        }
      ]
    },
    {
      "cell_type": "markdown",
      "source": [
        "##**5.20.3 Matrix pada Numpy**"
      ],
      "metadata": {
        "id": "boucccHJI7HI"
      }
    },
    {
      "cell_type": "code",
      "source": [
        "# Mendeklarasikan numpy\n",
        "import numpy as np\n",
        "\n",
        "# Mendeklarasikan variabel dengan fungsi 'ones(( ))' \n",
        "x1 = np.ones((3,4))\n",
        "# 'ones(( ))' digunakan untuk membentuk entri '1.' pada seluruh entri array\n",
        "# '(( ))' digunakan untuk ordo pada array \n",
        "print(\"Bentuk data array dengan ordo 3x4 yang memiliki seluruh entri '1.' : \",x1, '\\n')\n",
        "\n",
        "# Mendeklarasikan variabel dengan fungsi 'zeros(( ))'\n",
        "x2 = np.zeros((4,3))\n",
        "# 'zeros(( ))' digunakan untuk membentuk entri '0.' pada seluruh entri array\n",
        "# '(( ))' digunakan untuk ordo pada array\n",
        "print(\"Bentuk data array dengan ordo 4x3 yang memiliki seluruh entri '0.' : \",x2, '\\n')\n",
        "\n",
        "# Mendeklarasikan variabel dengan fungsi 'identity()'\n",
        "x3 = np.identity(5)\n",
        "# 'identity()' digunakan untuk membentuk matriks identitas\n",
        "# dengan '()' digunakan sebagai ordo array\n",
        "# karena matriks identitas adalah matrik bujursangkar, maka hanya perlu 1 ordo\n",
        "print(\"Bentuk data array dengan ordo 5x5 yang merupakan matriks identitas yaitu : \",x3, '\\n')\n",
        "\n",
        "# Mendeklarasikan variabel dengan fungsi 'ones(( , , , ))'\n",
        "x4 = np.ones((3,4,5))\n",
        "# 'ones(( , , , ))' digunakan untuk membentuk entri '1.' pada seluruh entri array\n",
        "# dengan '(( , , , ))' digunakan untuk membentuk berapa array, baris array, dan kolom array\n",
        "print(\"Bentuk 3 data array dengan ordo 4x5 yang memiliki seluruh entri '1.' : \", x4, '\\n')\n",
        "\n",
        "# Mendeklarasikan variabel dengan fungsi 'full(( , ), )'\n",
        "x5 = np.full((3,3),6)\n",
        "# 'full(( , ), )' digunakan untuk membentuk data array dengan satu bentuk entri pada seluruh data\n",
        "# dengan '(( , ), )' digunakan untuk membentuk ordo array dan data array yang ingin dibentuk\n",
        "print(\"Bentuk data array dengan ordo 3x3 yang memiliki seluruh entri '6' : \", x5, '\\n')\n",
        "\n",
        "# Mendeklarasikan variabel dengan fungsi 'random.rand( , )'\n",
        "x6 = np.random.rand(4,6)\n",
        "# 'random.rand( , )' digunakan untuk membentuk data array yang berisi entri dengan nilai random\n",
        "# dengan '( , )' digunakan untuk membentuk ordo array\n",
        "print(\"Bentuk data array dengan ordo 4x6 yang memiliki seluruh entri random : \",x6, '\\n')\n",
        "\n",
        "# Mendeklarasikan variabel dengan fungsi 'random.randint( , ,size = ( , ))'\n",
        "x7 = np.random.randint(1,10,size = (3,4))\n",
        "# 'random.randint( , ,size = ( , ))' digunakan untuk membentuk data array yang berisi entri dengan nilai random\n",
        "# namun, nilai random disini memiliki batas, dengan '( , ,size...)' sebagai batasnya\n",
        "# dan 'size = ( , )' digunakan untuk membentuk ordo array\n",
        "print(\"Bentuk data array dengan ordo 3x4 yang memiliki seluruh entri random dari 1-10 : \",x7, '\\n')"
      ],
      "metadata": {
        "colab": {
          "base_uri": "https://localhost:8080/"
        },
        "id": "3rXVu3i0URYc",
        "outputId": "6bca6d3e-b459-41f0-d705-c95b39d3bed9"
      },
      "execution_count": 22,
      "outputs": [
        {
          "output_type": "stream",
          "name": "stdout",
          "text": [
            "Bentuk data array dengan ordo 3x4 yang memiliki seluruh entri '1.' :  [[1. 1. 1. 1.]\n",
            " [1. 1. 1. 1.]\n",
            " [1. 1. 1. 1.]] \n",
            "\n",
            "Bentuk data array dengan ordo 4x3 yang memiliki seluruh entri '0.' :  [[0. 0. 0.]\n",
            " [0. 0. 0.]\n",
            " [0. 0. 0.]\n",
            " [0. 0. 0.]] \n",
            "\n",
            "Bentuk data array dengan ordo 5x5 yang merupakan matriks identitas yaitu :  [[1. 0. 0. 0. 0.]\n",
            " [0. 1. 0. 0. 0.]\n",
            " [0. 0. 1. 0. 0.]\n",
            " [0. 0. 0. 1. 0.]\n",
            " [0. 0. 0. 0. 1.]] \n",
            "\n",
            "Bentuk 3 data array dengan ordo 4x5 yang memiliki seluruh entri '1.' :  [[[1. 1. 1. 1. 1.]\n",
            "  [1. 1. 1. 1. 1.]\n",
            "  [1. 1. 1. 1. 1.]\n",
            "  [1. 1. 1. 1. 1.]]\n",
            "\n",
            " [[1. 1. 1. 1. 1.]\n",
            "  [1. 1. 1. 1. 1.]\n",
            "  [1. 1. 1. 1. 1.]\n",
            "  [1. 1. 1. 1. 1.]]\n",
            "\n",
            " [[1. 1. 1. 1. 1.]\n",
            "  [1. 1. 1. 1. 1.]\n",
            "  [1. 1. 1. 1. 1.]\n",
            "  [1. 1. 1. 1. 1.]]] \n",
            "\n",
            "Bentuk data array dengan ordo 3x3 yang memiliki seluruh entri '6' :  [[6 6 6]\n",
            " [6 6 6]\n",
            " [6 6 6]] \n",
            "\n",
            "Bentuk data array dengan ordo 4x6 yang memiliki seluruh entri random :  [[0.43226222 0.86588329 0.56834412 0.85378624 0.27066454 0.80858499]\n",
            " [0.74299419 0.31904236 0.86426896 0.40287073 0.28169827 0.1150107 ]\n",
            " [0.01352365 0.60343479 0.58149991 0.78700917 0.945297   0.94799111]\n",
            " [0.85174824 0.72092028 0.26724415 0.50440253 0.41270023 0.3404955 ]] \n",
            "\n",
            "Bentuk data array dengan ordo 3x4 yang memiliki seluruh entri random dari 1-10 :  [[1 9 8 3]\n",
            " [6 6 3 1]\n",
            " [5 5 8 8]] \n",
            "\n"
          ]
        }
      ]
    },
    {
      "cell_type": "markdown",
      "source": [
        "##**5.20.4 Copy pada Numpy**\n",
        "Ikatan persamaan dalam *Numpy* begitu erat sehingga saat anggota variabel baru dirubah, dampaknya juga akan merubah variabel asal.\n",
        "\n",
        "Untuk menghindari perubahan variabel awal yang tidak dikehendaki maka diperlukan perintah *copy*\n",
        "\n"
      ],
      "metadata": {
        "id": "tBMYfrhYJICS"
      }
    },
    {
      "cell_type": "code",
      "source": [
        "import numpy as np\n",
        "\n",
        "# Mendeklarasikan variabel dengan fungsi array pada numpy\n",
        "z_10 = np.array([1,3,5,7,9])\n",
        "print(\"Diketahui data array(z_10) sebagai berikut : \" ,z_10)\n",
        "# variabel akan di 'copy' dengan fungsi 'copy()'\n",
        "y_10 = z_10.copy()\n",
        "# berikut adalh hasil copy variabel\n",
        "print(\"Data tersebut akan dicopy pada array(y_10) seperti berikut : \",y_10)\n",
        "\n",
        "# berikut inisialisasi variabel dengan fungsi array pada numpy(np)\n",
        "w_10 = np.array([2,4,6,8])\n",
        "print(\"\\nDiketahui data array(w_10) sebagai berikut : \",w_10)\n",
        "# variabel akan di 'copy' dengan fungsi 'copy()'\n",
        "v_10 = w_10.copy()\n",
        "# berikut adalah hasil copy variabel\n",
        "print(\"Data tersebut akan dicopy pada array(v_10)  seperti berikut : \",v_10)\n",
        "\n",
        "print(\"\\nSehingga kedua array copy tersebut indentik dengan array originalnya : \\n\",y_10 ,v_10)"
      ],
      "metadata": {
        "colab": {
          "base_uri": "https://localhost:8080/"
        },
        "id": "8LIR1GeuVTNA",
        "outputId": "e9437d19-fd95-4971-97bb-4c5bd968b79a"
      },
      "execution_count": 23,
      "outputs": [
        {
          "output_type": "stream",
          "name": "stdout",
          "text": [
            "Diketahui data array(z_10) sebagai berikut :  [1 3 5 7 9]\n",
            "Data tersebut akan dicopy pada array(y_10) seperti berikut :  [1 3 5 7 9]\n",
            "\n",
            "Diketahui data array(w_10) sebagai berikut :  [2 4 6 8]\n",
            "Data tersebut akan dicopy pada array(v_10)  seperti berikut :  [2 4 6 8]\n",
            "\n",
            "Sehingga kedua array copy tersebut indentik dengan array originalnya : \n",
            " [1 3 5 7 9] [2 4 6 8]\n"
          ]
        }
      ]
    },
    {
      "cell_type": "markdown",
      "source": [
        "##**5.20.5 Operasi Matematika pada Numpy**"
      ],
      "metadata": {
        "id": "-Fmh7SXDKg3a"
      }
    },
    {
      "cell_type": "code",
      "source": [
        "import numpy as np\n",
        "\n",
        "# Mendeklarasikan variabel dengan fungsi array pada numpy\n",
        "a_10 = np.array([7,8,9,10,11])\n",
        "print(\"Diketahui data array sebagai berikut [7,8,9,10,11] \\n\")\n",
        "b_10 = np.array([6,7,8,9,10])\n",
        "\n",
        "# Mendeklarasikan variabel dengan operasi '+' pada variabel 'a_10'\n",
        "# operasi '+' adalah operasi penjumlahan\n",
        "y1 = a_10+1\n",
        "\n",
        "# Mendeklarasikan variabel dengan operasi '-' pada variabel 'a_10'\n",
        "# operasi '-' adalah operasi pengurangan\n",
        "y2 = a_10-1\n",
        "\n",
        "# Mendeklarasikan variabel dengan operasi '*' pada variabel 'a_10'\n",
        "# operasi '*' adalah operasi perkalian\n",
        "y3 = a_10*2\n",
        "\n",
        "# Mendeklarasikan variabel dengan operasi '/' pada variabel 'a_10'\n",
        "# operasi '/' adalah operasi pembagian\n",
        "y4 = a_10/2\n",
        "\n",
        "# Mendeklarasikan variabel dengan operasi '**' pada variabel 'a_10'\n",
        "# operasi '**' adalah operasi pemangkatan\n",
        "y5 = a_10**b_10\n",
        "print(\"Nilai a_10 + 1 : \" , y1,'\\n')\n",
        "print(\"Nilai a_10 - 1 : \", y2,'\\n')\n",
        "print(\"Nilai a_10 x 1 : \", y3,'\\n')\n",
        "print(\"Nilai a_10 / 1 : \", y4,'\\n')\n",
        "print(\"Nilai a_10 pangkat b_10 : \", y5,'\\n')\n",
        "\n",
        "# Mendeklarasikan variabel dengan operasi 'cos()'\n",
        "z1 = np.cos(a_10)\n",
        "# operasi 'cos()' adalah operasi pembentukan nilai cos dari data pada '()'\n",
        "\n",
        "# berikut inisialisasi variabel dengan operasi 'sin()' \n",
        "z2 = np.sin(a_10)\n",
        "# operasi 'sin()' adalah operasi pembentukan nilai sin dari data pada '()'\n",
        "\n",
        "# Mendeklarasikan variabel dengan operasi 'tan()'\n",
        "z3 = np.tan(a_10)\n",
        "# operasi 'tan()' adalah operasi pembentukan nilai tan dari data pada '()'\n",
        "\n",
        "# Mendeklarasikan variabel dengan operasi 'sinh()' \n",
        "z4 = np.sinh(a_10)\n",
        "# operasi 'sinh()' adalah operasi pembentukan nilai sin hiperbolik dari data pada '()'\n",
        "\n",
        "# Mendeklarasikan variabel dengan operasi 'cosh()' \n",
        "z5 = np.cosh(a_10)\n",
        "# operasi 'cosh()' adalah operasi pembentukan nilai cos hiperbolik dari data pada '()'\n",
        "\n",
        "# berikut inisialisasi variabel dengan operasi 'tanh()' pada variabel 'a'\n",
        "# operasi 'tanh()' adalah operasi pembentukan nilai tan hiperbolik dari data pada '()'\n",
        "z6 = np.tanh(a_10)\n",
        "\n",
        "# Mendeklarasikan variabel dengan operasi 'sqrt()' \n",
        "# operasi 'sqrt()' adalah operasi yang mencari nilai akar kuadrat dari data '()'\n",
        "z7 = np.sqrt(a_10)\n",
        "print(\"Nilai cos adalah \", z1, '\\n')\n",
        "print(\"Nilai sin adalah \", z2, '\\n')\n",
        "print(\"Nilai tan adalah \", z3, '\\n')\n",
        "print(\"Nilai cosh adalah  \", z4, '\\n')\n",
        "print(\"Nilai sinh adalah  \",z5, '\\n')\n",
        "print(\"Nilai tanhadalah  \",z6, '\\n')\n",
        "print(\"Nilai akar kuadrat a adalah \",z7,'\\n')"
      ],
      "metadata": {
        "colab": {
          "base_uri": "https://localhost:8080/"
        },
        "id": "ofH3eGr9Vh5u",
        "outputId": "09880467-f395-4410-b032-3ea2f523f3ef"
      },
      "execution_count": 25,
      "outputs": [
        {
          "output_type": "stream",
          "name": "stdout",
          "text": [
            "Diketahui data array sebagai berikut [7,8,9,10,11] \n",
            "\n",
            "Nilai a_10 + 1 :  [ 8  9 10 11 12] \n",
            "\n",
            "Nilai a_10 - 1 :  [ 6  7  8  9 10] \n",
            "\n",
            "Nilai a_10 x 1 :  [14 16 18 20 22] \n",
            "\n",
            "Nilai a_10 / 1 :  [3.5 4.  4.5 5.  5.5] \n",
            "\n",
            "Nilai a_10 pangkat b_10 :  [     117649     2097152    43046721  1000000000 25937424601] \n",
            "\n",
            "Nilai cos adalah  [ 0.75390225 -0.14550003 -0.91113026 -0.83907153  0.0044257 ] \n",
            "\n",
            "Nilai sin adalah  [ 0.6569866   0.98935825  0.41211849 -0.54402111 -0.99999021] \n",
            "\n",
            "Nilai tan adalah  [   0.87144798   -6.79971146   -0.45231566    0.64836083 -225.95084645] \n",
            "\n",
            "Nilai cosh adalah   [  548.31612327  1490.47882579  4051.54190208 11013.2328747\n",
            " 29937.07084925] \n",
            "\n",
            "Nilai sinh adalah   [  548.31703516  1490.47916125  4051.54202549 11013.2329201\n",
            " 29937.07086595] \n",
            "\n",
            "Nilai tanhadalah   [0.99999834 0.99999977 0.99999997 1.         1.        ] \n",
            "\n",
            "Nilai akar kuadrat a adalah  [2.64575131 2.82842712 3.         3.16227766 3.31662479] \n",
            "\n"
          ]
        }
      ]
    },
    {
      "cell_type": "markdown",
      "source": [
        "##**5.20.6 Perkalian Matriks pada Numpy**\n",
        "Perkalian matriks pada *Numpy* dapat menggunakan perintah *matmul*.\n",
        "\n",
        "Perlu diperhatikan ukuran matriks yang akan dikalikan harus sesui dengan persyaratan. Misalnya matriks ukuran (2 x 3) dapat dilakukan perkalian dengan matriks ukuran (3 x 4)\n",
        "\n"
      ],
      "metadata": {
        "id": "duzGjEN3KpYe"
      }
    },
    {
      "cell_type": "code",
      "source": [
        "import numpy as np\n",
        "\n",
        "# Mendeklarasikan variabel dengan fungsi array pada numpy(np)\n",
        "a = np.array([[6,7,8,9],[1,2,3,4]])\n",
        "b = np.array([[10,11,12,13],[16,14,18,17]])\n",
        "print(\"Diketahui data array : \")\n",
        "print(a)\n",
        "print(b)\n",
        "      \n",
        "# variabel sebelumnya akan dioperasikan dengan '*' pada sebuah variabel baru\n",
        "# ini adalah bentuk perkalian masing-masing entri pada variabel fungsi array      \n",
        "c = a*b\n",
        "print(\"\\nNilai dari a*b : \", c)      \n",
        "\n",
        "# Mendeklarasikan variabel dengan fungsi array pada numpy(np)\n",
        "e = np.array([[1,2], [3,4],[6,7],[10,11]])\n",
        "      \n",
        "print(\"\\nDiketahui pula data array kedua : \")\n",
        "print(e)\n",
        "\n",
        "# variabel 'a' dan 'e' akan operasikan dengan fungsi 'matmul()' \n",
        "# fungsi 'matmul()' berfungsi untuk mengalikan kedua matriks\n",
        "f = np.matmul(a,e)\n",
        "print(f)\n",
        "print(\"\\nJika array 'a' dan 'e' diketahui sebagai matriks,\")\n",
        "print(\"Maka hasil kalinya adalah : \")\n",
        "print(f)"
      ],
      "metadata": {
        "colab": {
          "base_uri": "https://localhost:8080/"
        },
        "id": "Jt7asSpLV2ok",
        "outputId": "656ac117-dc92-43c7-b24d-8c8bbe1f9f12"
      },
      "execution_count": 26,
      "outputs": [
        {
          "output_type": "stream",
          "name": "stdout",
          "text": [
            "Diketahui data array : \n",
            "[[6 7 8 9]\n",
            " [1 2 3 4]]\n",
            "[[10 11 12 13]\n",
            " [16 14 18 17]]\n",
            "\n",
            "Nilai dari a*b :  [[ 60  77  96 117]\n",
            " [ 16  28  54  68]]\n",
            "\n",
            "Diketahui pula data array kedua : \n",
            "[[ 1  2]\n",
            " [ 3  4]\n",
            " [ 6  7]\n",
            " [10 11]]\n",
            "[[165 195]\n",
            " [ 65  75]]\n",
            "\n",
            "Jika array 'a' dan 'e' diketahui sebagai matriks,\n",
            "Maka hasil kalinya adalah : \n",
            "[[165 195]\n",
            " [ 65  75]]\n"
          ]
        }
      ]
    },
    {
      "cell_type": "markdown",
      "source": [
        "##**5.20.7 min, max, dan sum pada Numpy**\n"
      ],
      "metadata": {
        "id": "3_X-ZdYfMaoD"
      }
    },
    {
      "cell_type": "code",
      "source": [
        "import numpy as np\n",
        "\n",
        "# berikut inisialisasi variabel dengan fungsi array pada numpy(np)\n",
        "# dengan 3 baris dan 4 kolom\n",
        "a = np.array([[1,3,5,7],\n",
        "             [2,4,6,8],\n",
        "             [9,11,13,15]])\n",
        "print(\"Diketahui data array : \")\n",
        "print(a)\n",
        "print('\\n')\n",
        "\n",
        "# berikut adalah fungsi 'min()' pada data 'a'\n",
        "# 'min()' digunakan untuk mencari nilai minimum data array\n",
        "print(\"Nilai minimum dari data array adalah : \")\n",
        "b = np.min(a)\n",
        "print(b,'\\n')\n",
        "\n",
        "# berikut adalah fungsi 'min( , axis=0)' pada data 'a'\n",
        "c = np.min(a,axis=0)\n",
        "print(\"Data minimum baris data arrray adalah : \" ,c,'\\n')\n",
        "# 'min( , axis=0)' digunakan untuk mencari data minimum pada baris data array\n",
        "# dengan axis = 0 menujukan 'baris' data array\n",
        "\n",
        "# berikut adalah fungsi 'min( , axis=1)' pada data 'a'\n",
        "\n",
        "d = np.min(a,axis=1)\n",
        "print(\"Data minimum kolom data array adalah : \" ,d,'\\n')\n",
        "# 'min( , axis=1)' digunakan untuk mencari data minimum pada kolom data array\n",
        "# dengan axis = 1 menujukan 'kolom' data array\n",
        "\n",
        "# berikut adalah fungsi 'max()' pada data 'a'\n",
        "e = np.max(a)\n",
        "print(\"Nilai maksimum dari data array adalah : \" ,e,'\\n')\n",
        "# 'max()' digunakan untuk mencari nilai maksimum data array\n",
        "\n",
        "# berikut adalah fungsi 'max( , axis=0)' pada data 'a'\n",
        "f = np.max(a,axis=0)\n",
        "print(\"Data maksimum baris data array adalah : \" ,f,'\\n')\n",
        "# 'max( , axis=0)' digunakan untuk mencari data maksimum pada baris data array\n",
        "# dengan axis = 0 menujukan 'baris' data array\n",
        "\n",
        "# berikut adalah fungsi 'max( , axis=1)' pada data 'a'\n",
        "g = np.max(a,axis=1)\n",
        "print(\"Data maksimum kolom data array adalah : \" ,g,'\\n')\n",
        "# 'max( , axis=1)' digunakan untuk mencari data maksimum pada kolom data array\n",
        "# dengan axis = 1 menujukan 'kolom' data array\n",
        "\n",
        "# berikut adalah fungsi 'sum()' pada data 'a'\n",
        "h1 = np.sum(a)\n",
        "print(\"Jumlah data array adalah : \" ,h1,'\\n')\n",
        "# 'sum()' digunakan untuk menjumlah seluruh data array\n",
        "\n",
        "# berikut adalah fungsi 'sum( , axis=0)' pada data 'a'\n",
        "h2 = np.sum(a,axis=1)\n",
        "print(\"Jumlah data baris array adalah : \" ,h2,'\\n')\n",
        "# 'sum( , axis=0)' digunakan untuk menjumlah data pada baris data array\n",
        "# dengan axis = 0 menunjukan 'baris' data array\n",
        "\n",
        "# berikut adalah fungsi 'sum( , axis=1)' pada data 'a'\n",
        "h3 = np.sum(a,axis=1)\n",
        "print(\"Jumlah data kolom array adalah : \" ,h3,'\\n')\n",
        "# 'sum( , axis=1)' digunakan untuk menjumlah data pada kolom data array\n",
        "# dengan axis = 1 menunjukan 'kolom' data array"
      ],
      "metadata": {
        "id": "GUFfFVF6Ms7Y",
        "colab": {
          "base_uri": "https://localhost:8080/"
        },
        "outputId": "fb967f28-89ba-40a7-a5a2-e20642c6faf6"
      },
      "execution_count": 28,
      "outputs": [
        {
          "output_type": "stream",
          "name": "stdout",
          "text": [
            "Diketahui data array : \n",
            "[[ 1  3  5  7]\n",
            " [ 2  4  6  8]\n",
            " [ 9 11 13 15]]\n",
            "\n",
            "\n",
            "Nilai minimum dari data array adalah : \n",
            "1 \n",
            "\n",
            "Data minimum baris data arrray adalah :  [1 3 5 7] \n",
            "\n",
            "Data minimum kolom data array adalah :  [1 2 9] \n",
            "\n",
            "Nilai maksimum dari data array adalah :  15 \n",
            "\n",
            "Data maksimum baris data array adalah :  [ 9 11 13 15] \n",
            "\n",
            "Data maksimum kolom data array adalah :  [ 7  8 15] \n",
            "\n",
            "Jumlah data array adalah :  84 \n",
            "\n",
            "Jumlah data baris array adalah :  [16 20 48] \n",
            "\n",
            "Jumlah data kolom array adalah :  [16 20 48] \n",
            "\n"
          ]
        }
      ]
    }
  ]
}
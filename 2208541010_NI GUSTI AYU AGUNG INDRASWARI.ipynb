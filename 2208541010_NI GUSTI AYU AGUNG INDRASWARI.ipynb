{
  "nbformat": 4,
  "nbformat_minor": 0,
  "metadata": {
    "colab": {
      "provenance": [],
      "authorship_tag": "ABX9TyNCRjmBv+d2uxAf5EVoL2Xk"
    },
    "kernelspec": {
      "name": "python3",
      "display_name": "Python 3"
    },
    "language_info": {
      "name": "python"
    }
  },
  "cells": [
    {
      "cell_type": "markdown",
      "source": [
        "**5.1 Print**"
      ],
      "metadata": {
        "id": "TRcpPjCUG_HO"
      }
    },
    {
      "cell_type": "code",
      "source": [
        "#010_Menggunakan tanda petik satu ' ' untuk menjalankan kode\n",
        "print('Saya menggunakan google colab')"
      ],
      "metadata": {
        "colab": {
          "base_uri": "https://localhost:8080/"
        },
        "id": "tfCPlYGYHOB6",
        "outputId": "0e4e0372-e622-46bb-a4e0-4569bd839a70"
      },
      "execution_count": null,
      "outputs": [
        {
          "output_type": "stream",
          "name": "stdout",
          "text": [
            "Saya menggunakan google colab\n"
          ]
        }
      ]
    },
    {
      "cell_type": "code",
      "source": [
        "#010_Menggunakan tanda petik dua \" \" untuk menjalankan kode\n",
        "print(\"Theo bermain bola bersama snopy\")"
      ],
      "metadata": {
        "colab": {
          "base_uri": "https://localhost:8080/"
        },
        "id": "fblt15NAIRfI",
        "outputId": "f0c4272f-09f4-44c1-d5e9-980ed74be59b"
      },
      "execution_count": null,
      "outputs": [
        {
          "output_type": "stream",
          "name": "stdout",
          "text": [
            "Theo bermain bola bersama snopy\n"
          ]
        }
      ]
    },
    {
      "cell_type": "code",
      "source": [
        "#010_Menggunakan tanda petik yang berbeda untuk menjalankan kode\n",
        "print('Jerome pintar matematika\")\n",
        "#Terjadi error karena tanda petik yang berbeda sehinga harus menggunakan tanda petik yang sama"
      ],
      "metadata": {
        "colab": {
          "base_uri": "https://localhost:8080/",
          "height": 135
        },
        "id": "dYk9wj7SK5OH",
        "outputId": "50f20451-20eb-4eb3-a04e-fd84beb82031"
      },
      "execution_count": null,
      "outputs": [
        {
          "output_type": "error",
          "ename": "SyntaxError",
          "evalue": "ignored",
          "traceback": [
            "\u001b[0;36m  File \u001b[0;32m\"<ipython-input-12-91212f2fd5df>\"\u001b[0;36m, line \u001b[0;32m2\u001b[0m\n\u001b[0;31m    print('Jerome pintar matematika\")\u001b[0m\n\u001b[0m                                     ^\u001b[0m\n\u001b[0;31mSyntaxError\u001b[0m\u001b[0;31m:\u001b[0m EOL while scanning string literal\n"
          ]
        }
      ]
    },
    {
      "cell_type": "code",
      "source": [
        "#010_Menggunakan tanda _ jika variabel terdiri lebih dari satu kata\n",
        "Subjek = 'Ayu'\n",
        "Predikat = ' makan'\n",
        "Objek = ' ikan '\n",
        "Keterangan_tempat = ' restoran '\n",
        "print(Subjek + Predikat + Objek + 'di' + Keterangan_tempat)"
      ],
      "metadata": {
        "colab": {
          "base_uri": "https://localhost:8080/"
        },
        "id": "zNsyHztWMFam",
        "outputId": "f551800c-9a3d-4728-98e5-922351023c93"
      },
      "execution_count": null,
      "outputs": [
        {
          "output_type": "stream",
          "name": "stdout",
          "text": [
            "Ayu makan ikan di restoran \n"
          ]
        }
      ]
    },
    {
      "cell_type": "code",
      "source": [
        "#010_Menghitung sisa uang yang dimiliki\n",
        "Total_uang = 100000\n",
        "Beli_buku = 45500\n",
        "Beli_pulpen = 3000\n",
        "Sisa_uang = Total_uang - Beli_buku - Beli_pulpen\n",
        "print(Sisa_uang)"
      ],
      "metadata": {
        "colab": {
          "base_uri": "https://localhost:8080/"
        },
        "id": "xVowc1zzN3Z_",
        "outputId": "094f2e54-2a18-4027-9b75-9f8779035f69"
      },
      "execution_count": null,
      "outputs": [
        {
          "output_type": "stream",
          "name": "stdout",
          "text": [
            "51500\n"
          ]
        }
      ]
    },
    {
      "cell_type": "markdown",
      "source": [
        "**5.2 Input**"
      ],
      "metadata": {
        "id": "frEFy9g3TDf9"
      }
    },
    {
      "cell_type": "code",
      "source": [
        "nama = input('Siapakah nama anjing kamu?')\n",
        "umur = input('berapa umurnya sekarang?')\n",
        "print('Semoga di ' + umur + ' ini,' + nama + ' sehat dan panjang umur ya !')"
      ],
      "metadata": {
        "colab": {
          "base_uri": "https://localhost:8080/"
        },
        "id": "z-vuf2c3TIs4",
        "outputId": "9fd43fac-5045-4d91-b267-ac6b33b98dd1"
      },
      "execution_count": null,
      "outputs": [
        {
          "output_type": "stream",
          "name": "stdout",
          "text": [
            "Siapakah nama anjing kamu?Theo\n",
            "berapa umurnya sekarang?7 bulan\n",
            "Semoga di 7 bulan ini,Theo sehat dan panjang umur ya !\n"
          ]
        }
      ]
    },
    {
      "cell_type": "code",
      "source": [
        "print('Biodata siswi kelas 6 SD tahun 2023')\n",
        "nama = input('Nama : ')\n",
        "umur = input('Umur : ')\n",
        "hobi = input('Hobi : ')"
      ],
      "metadata": {
        "colab": {
          "base_uri": "https://localhost:8080/"
        },
        "id": "v0p0h8YXWtw7",
        "outputId": "7e0f3005-9d07-493b-cc96-3fc8ab0b7a64"
      },
      "execution_count": null,
      "outputs": [
        {
          "name": "stdout",
          "output_type": "stream",
          "text": [
            "Biodata siswi kelas 6 SD tahun 2023\n",
            "Nama : Virna\n",
            "Umur : 12 Tahun\n",
            "Hobi : Menggambar\n"
          ]
        }
      ]
    },
    {
      "cell_type": "markdown",
      "source": [
        "**5.3 Tipe Data pada Python**"
      ],
      "metadata": {
        "id": "idBbJly_amm0"
      }
    },
    {
      "cell_type": "code",
      "source": [
        "buku_di_meja = input('Berapakah jumlah buku di meja ?')\n",
        "buku_di_tas = input('Berapakah jumlah buku di dalam tas ?')\n",
        "print('Total buku Sari adalah ' + buku_di_meja + buku_di_tas)\n",
        "#010_Total buku Sari salah karena pemjumlahan data berupa string sehingga membuat Python bingung"
      ],
      "metadata": {
        "colab": {
          "base_uri": "https://localhost:8080/"
        },
        "id": "OXkKaV_MZvuL",
        "outputId": "25ef41df-ffa3-42d0-a123-83fb6dcae455"
      },
      "execution_count": null,
      "outputs": [
        {
          "output_type": "stream",
          "name": "stdout",
          "text": [
            "Berapakah jumlah buku di meja ?10\n",
            "Berapakah jumlah buku di dalam tas ?9\n",
            "Total buku Sari adalah 109\n"
          ]
        }
      ]
    },
    {
      "cell_type": "code",
      "source": [
        "buku_di_meja = input('Berapakah jumlah buku di meja ?')\n",
        "buku_di_tas = input('Berapakah jumlah buku di dalam tas ?')\n",
        "total_buku = int(buku_di_meja) + int(buku_di_tas)\n",
        "print('Total buku Sari ' + str(total_buku) +' buah')"
      ],
      "metadata": {
        "colab": {
          "base_uri": "https://localhost:8080/"
        },
        "id": "b6PRGKvVfg8w",
        "outputId": "06195408-1eb4-46e8-b1de-533dd70ba738"
      },
      "execution_count": null,
      "outputs": [
        {
          "output_type": "stream",
          "name": "stdout",
          "text": [
            "Berapakah jumlah buku di meja ?7\n",
            "Berapakah jumlah buku di dalam tas ?9\n",
            "Total buku Sari 16 buah\n"
          ]
        }
      ]
    },
    {
      "cell_type": "markdown",
      "source": [
        "#010_Melihat tipe data tiap variabel"
      ],
      "metadata": {
        "id": "gnXUJsoMoPRZ"
      }
    },
    {
      "cell_type": "code",
      "source": [
        "type(buku_di_meja)"
      ],
      "metadata": {
        "colab": {
          "base_uri": "https://localhost:8080/"
        },
        "id": "Y5gtF0IEnvFQ",
        "outputId": "f4f0c662-33eb-49b9-a955-d45bf0698a6b"
      },
      "execution_count": null,
      "outputs": [
        {
          "output_type": "execute_result",
          "data": {
            "text/plain": [
              "str"
            ]
          },
          "metadata": {},
          "execution_count": 5
        }
      ]
    },
    {
      "cell_type": "code",
      "source": [
        "type(buku_di_tas)"
      ],
      "metadata": {
        "colab": {
          "base_uri": "https://localhost:8080/"
        },
        "id": "fPtW8z54oE4X",
        "outputId": "c6dadf29-fe10-4de4-95be-a7dec36199f9"
      },
      "execution_count": null,
      "outputs": [
        {
          "output_type": "execute_result",
          "data": {
            "text/plain": [
              "str"
            ]
          },
          "metadata": {},
          "execution_count": 6
        }
      ]
    },
    {
      "cell_type": "code",
      "source": [
        "type(total_buku)"
      ],
      "metadata": {
        "colab": {
          "base_uri": "https://localhost:8080/"
        },
        "id": "M_oLb9K2oING",
        "outputId": "adf95923-44f6-43cb-854b-2479c611bb34"
      },
      "execution_count": null,
      "outputs": [
        {
          "output_type": "execute_result",
          "data": {
            "text/plain": [
              "int"
            ]
          },
          "metadata": {},
          "execution_count": 7
        }
      ]
    },
    {
      "cell_type": "code",
      "source": [
        "#010_Mencari keliling persegi\n",
        "sisi = int(input('Masukkan panjang sisi : '))\n",
        "Keliling = 4*int(sisi)\n",
        "#010_Tanda * artinya perkalian\n",
        "print('Keliling persegi adalah ' + str(Keliling))"
      ],
      "metadata": {
        "colab": {
          "base_uri": "https://localhost:8080/"
        },
        "id": "u1r6VpwGoNIL",
        "outputId": "b21b8e39-e162-425d-ca25-c00966b2fce1"
      },
      "execution_count": null,
      "outputs": [
        {
          "output_type": "stream",
          "name": "stdout",
          "text": [
            "Masukkan panjang sisi : 5\n",
            "Keliling persegi adalah 20\n"
          ]
        }
      ]
    },
    {
      "cell_type": "code",
      "source": [
        "#010_Mencari nilai rata-rata semua mata pelajaran selama 1 semester\n",
        "print('Berikut merupakan nilai semua mata pelajaran semester 1')\n",
        "Agama = input('Nilai Agama  : ')\n",
        "Bahasa_Indonesia = input('Nilai Bahasa Indonesia : ')\n",
        "Matematika = input('Nilai Matematika : ')\n",
        "IPA = input('Nilai IPA : ')\n",
        "IPS = input('Nilai IPS : ')\n",
        "Jumlah_nilai = float(Agama) + float(Bahasa_Indonesia) + float(Matematika) + float(IPA) +float(IPS)\n",
        "Rata_rata = Jumlah_nilai / 5\n",
        "print('Rata-rata nilai semua mata pelajaran anda selama 1 semester adalah ' + str(Rata_rata))"
      ],
      "metadata": {
        "colab": {
          "base_uri": "https://localhost:8080/"
        },
        "id": "7jLIj2md7QOM",
        "outputId": "43d49d77-4971-431e-f9cc-e8b0ad4f23dd"
      },
      "execution_count": 4,
      "outputs": [
        {
          "output_type": "stream",
          "name": "stdout",
          "text": [
            "Berikut merupakan nilai semua mata pelajaran semester 1\n",
            "Nilai Agama  : 90\n",
            "Nilai Bahasa Indonesia : 85.3\n",
            "Nilai Matematika : 87.6\n",
            "Nilai IPA : 82.5\n",
            "Nilai IPS : 81.4\n",
            "Rata-rata nilai semua mata pelajaran anda selama 1 semester adalah 85.35999999999999\n"
          ]
        }
      ]
    },
    {
      "cell_type": "code",
      "source": [
        "#010_Tipe data boolean true or false\n",
        "y = 4\n",
        "z = 7\n",
        "nilai = (y + z > 8)\n",
        "print(nilai)\n",
        "\n"
      ],
      "metadata": {
        "colab": {
          "base_uri": "https://localhost:8080/"
        },
        "id": "538WINIKscKE",
        "outputId": "a741a3f3-8495-4e9b-b3eb-5edec63de16b"
      },
      "execution_count": null,
      "outputs": [
        {
          "output_type": "stream",
          "name": "stdout",
          "text": [
            "True\n"
          ]
        }
      ]
    },
    {
      "cell_type": "markdown",
      "source": [
        "**5.4 Formatted String**"
      ],
      "metadata": {
        "id": "XPV3sijusR7H"
      }
    },
    {
      "cell_type": "code",
      "source": [
        "nama = 'Saras Permata Hati'\n",
        "Jenis_kelamin = 'perempuan'\n",
        "Ayah = 'Bapak Ngurah'\n",
        "Ibu = ' Ibu Murni'\n",
        "print(nama + ' adalah anak ' + Jenis_kelamin + ' dari ' + Ayah + ' dan' + Ibu)"
      ],
      "metadata": {
        "colab": {
          "base_uri": "https://localhost:8080/"
        },
        "id": "gLpuXfwCvgyi",
        "outputId": "f70698b7-ac24-4e36-b263-1fe4750fb62f"
      },
      "execution_count": null,
      "outputs": [
        {
          "output_type": "stream",
          "name": "stdout",
          "text": [
            "Saras Permata Hati adalah anak perempuan dari Bapak Ngurah dan Ibu Murni\n"
          ]
        }
      ]
    },
    {
      "cell_type": "code",
      "source": [
        "print(f'{nama} adalah anak {Jenis_kelamin} dari {Ayah}{Ibu}')"
      ],
      "metadata": {
        "colab": {
          "base_uri": "https://localhost:8080/"
        },
        "id": "tD4LP-seumGc",
        "outputId": "7940260e-f7b7-44e2-d429-12be42e9df35"
      },
      "execution_count": null,
      "outputs": [
        {
          "output_type": "stream",
          "name": "stdout",
          "text": [
            "Saras Permata Hati adalah anak perempuan dari Bapak Ngurah Ibu Murni\n"
          ]
        }
      ]
    },
    {
      "cell_type": "code",
      "source": [
        "print(f\"{nama} adalah anak {Jenis_kelamin} dari {Ayah}{Ibu}\")"
      ],
      "metadata": {
        "colab": {
          "base_uri": "https://localhost:8080/"
        },
        "id": "_vBbCxvFxAU3",
        "outputId": "9d799c09-7f36-47d9-d247-f3918acff4ed"
      },
      "execution_count": null,
      "outputs": [
        {
          "output_type": "stream",
          "name": "stdout",
          "text": [
            "Saras Permata Hati adalah anak perempuan dari Bapak Ngurah Ibu Murni\n"
          ]
        }
      ]
    }
  ]
}
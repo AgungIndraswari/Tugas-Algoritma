{
  "nbformat": 4,
  "nbformat_minor": 0,
  "metadata": {
    "colab": {
      "provenance": [],
      "authorship_tag": "ABX9TyM79EG0oLRjX3CedPor1vKi"
    },
    "kernelspec": {
      "name": "python3",
      "display_name": "Python 3"
    },
    "language_info": {
      "name": "python"
    }
  },
  "cells": [
    {
      "cell_type": "markdown",
      "source": [
        "##**5.11 While Loop**\n",
        "  While loop akan selalu berjalan selama nilainya *True* dan akan berhenti saat nilainya *False*\n",
        "  "
      ],
      "metadata": {
        "id": "JYnD7g68flBX"
      }
    },
    {
      "cell_type": "code",
      "source": [
        "# Latihan while loop 1\n",
        "\n",
        "# Mendeklarasikan variabel\n",
        "a_10 = 10\n",
        "while a_10 > 4:         #Ingat! Hrus menggunakan tanda titik dua ':'\n",
        "  print(\"Program akan terus berjalan\")\n",
        "print(\"Program selesai\")\n",
        "# Program terus berjalan karena pada kondisi a_10 > 4 akan selalu bernilai true, dimana a_10 = 10\n",
        "# Sehingga dalam while loop diperlukan suatu syarat agar program tidak berjalan terus atau error"
      ],
      "metadata": {
        "id": "qTK8rJwaKaS6"
      },
      "execution_count": null,
      "outputs": []
    },
    {
      "cell_type": "code",
      "source": [
        "# Latihan while loop 2\n",
        "\n",
        "# Mendeklarasikan variabel\n",
        "a_10 = 0\n",
        "while a_10 < 6:                                 #kondisi                        \n",
        "  print(\"Program akan terus berjalan\")        \n",
        "  #Di bawah ini merupakan syarat while loop\n",
        "  a_10 +=2                                      #a_10 = a_10 + 2                                \n",
        "print(\"Program selesai\")\n",
        "# Program akan terus berjalan saat kondisi bernilai true maka statement akan dilaksanakan\n",
        "# Setelah kondisi bernilai false maka statement tidak dilaksanakan\n",
        "# Program akan selesai kemudian mencetak perintah print berikutnya"
      ],
      "metadata": {
        "colab": {
          "base_uri": "https://localhost:8080/"
        },
        "id": "ZxxqfGdVOw2r",
        "outputId": "da6c3d3d-a3e1-4f76-8c56-07a47df1bd72"
      },
      "execution_count": 1,
      "outputs": [
        {
          "output_type": "stream",
          "name": "stdout",
          "text": [
            "Program akan terus berjalan\n",
            "Program akan terus berjalan\n",
            "Program akan terus berjalan\n",
            "Program selesai\n"
          ]
        }
      ]
    },
    {
      "cell_type": "code",
      "source": [
        "# Latihan while loop 3\n",
        "\n",
        "# Mendeklarasikan variabel\n",
        "angka_10 = 1\n",
        "print(f\"Angka sekarang -> {angka_10}\")    # Menggunakan formatted string\n",
        "\n",
        "while angka_10 < 10:                      # Kondisi \n",
        "  angka_10*=2                             # Syarat, yang artinya angka_10 = angka_10 * 2\n",
        "  print(f\"Angka sekarang -> {angka_10}\")  # Aksi true 1, menggunakan formatted string\n",
        "  print(\"Program berhasil\")               # Aksi true 2\n",
        "# Angka pertama yang dicetak adalah 1 karena angka_10 = 1\n",
        "# Karena angka pertama memenuhi kondisi atau bernilai true maka syarat dilaksanakan\n",
        "# Setelah itu Aksi true 1 dan 2 dilaksanakan\n",
        "# Program berhenti ketika tidak memenuhi kondisi atau bernilai false\n",
        "# Angka terakhir yang dicetak adalah 16 karena kondisi bernilai false\n",
        "# Kondisi yang diminta 16 < 10, sedangkan yang benar 16 > 10"
      ],
      "metadata": {
        "colab": {
          "base_uri": "https://localhost:8080/"
        },
        "id": "xtXgWCW6Qn3P",
        "outputId": "feec104d-03ce-40b5-8332-95b17e7787c5"
      },
      "execution_count": 2,
      "outputs": [
        {
          "output_type": "stream",
          "name": "stdout",
          "text": [
            "Angka sekarang -> 1\n",
            "Angka sekarang -> 2\n",
            "Program berhasil\n",
            "Angka sekarang -> 4\n",
            "Program berhasil\n",
            "Angka sekarang -> 8\n",
            "Program berhasil\n",
            "Angka sekarang -> 16\n",
            "Program berhasil\n"
          ]
        }
      ]
    },
    {
      "cell_type": "code",
      "source": [
        "# Latihan while loop 3\n",
        "\n",
        "# Mendeklarasikan variabel\n",
        "a_10 = 10\n",
        "while a_10 > 5:\n",
        "    print(\"Angka \" + str(a_10)+ \" masih lebih besar dari 5\")\n",
        "    a_10 -= 2       # a_10 = a_10 - 2"
      ],
      "metadata": {
        "colab": {
          "base_uri": "https://localhost:8080/"
        },
        "id": "1-YAjD88g9c1",
        "outputId": "897f6c3f-b76f-4514-f7a2-c5d0e7c18997"
      },
      "execution_count": 3,
      "outputs": [
        {
          "output_type": "stream",
          "name": "stdout",
          "text": [
            "Angka 10 masih lebih besar dari 5\n",
            "Angka 8 masih lebih besar dari 5\n",
            "Angka 6 masih lebih besar dari 5\n"
          ]
        }
      ]
    },
    {
      "cell_type": "code",
      "source": [
        "# Latihan while loop 4 menggunakan variable boolean\n",
        "\n",
        "# Mendeklarasikan variabel\n",
        "mulai_10 = True                   # Variable boolean\n",
        "b_10 = 0\n",
        "while mulai_10:\n",
        "  print(\"Bernilai benar\")\n",
        "  if b_10 == 5:\n",
        "    mulai_10 = False              # Variable boolean\n",
        "    print(\"Program terhenti\")\n",
        "  b_10 += 1"
      ],
      "metadata": {
        "colab": {
          "base_uri": "https://localhost:8080/"
        },
        "id": "rDj272xQVsJ8",
        "outputId": "9122b78c-8ff2-4477-a7ff-37f554b09647"
      },
      "execution_count": 4,
      "outputs": [
        {
          "output_type": "stream",
          "name": "stdout",
          "text": [
            "Bernilai benar\n",
            "Bernilai benar\n",
            "Bernilai benar\n",
            "Bernilai benar\n",
            "Bernilai benar\n",
            "Bernilai benar\n",
            "Program terhenti\n"
          ]
        }
      ]
    },
    {
      "cell_type": "code",
      "source": [
        "# Latihan while loop 5 menggunakan fungsi \"continue\", \"break\", dan \"else\"\n",
        "\n",
        "print('Contoh program while loop sebelum ditambahkan fungsi \"continue\"')\n",
        "# Mendeklarasikan variabel\n",
        "bil_10 = 0                                  \n",
        "print(f'Bilangan sekarang -> {bil_10}')      # Menggunakan formatted string\n",
        "while bil_10 < 7:                            # Kondisi 1\n",
        "  bil_10 += 2                                # Syarat, yang artinya bil_10 = bil_10 + 2\n",
        "  print(f'Bilangan sekarang -> {bil_10}')    # Aksi true 1\n",
        "  if bil_10 == 4:                            # Kondisi 2\n",
        "    print(\"Mantappu Jiwa\")                   # Aksi true 2\n",
        "  print('Hai')                               # Aksi true 3\n",
        "else:                                        # Kondisi 3, akan dijalankan apabila kondisi tidak memenuhi \n",
        "  print('Selesai')                           # Aksi false\n",
        "\n",
        "print('\\nContoh program while loop setelah ditambahkan fungsi \"continue\"')\n",
        "# Mendeklarasikan variabel\n",
        "bil_10 = 0\n",
        "print(f'Bilangan sekarang -> {bil_10}')      # Menggunakan formatted string\n",
        "while bil_10 < 7:                            # Kondisi 1\n",
        "  bil_10 += 2                                # Syarat, yang artinya bil_10 = bil_10 + 2\n",
        "  print(f'Bilangan sekarang -> {bil_10}')    # Aksi true 1\n",
        "  if bil_10 == 4:                            # Kondisi 2\n",
        "    print(\"Mantappu Jiwa\")                   # Aksi true 2\n",
        "    continue                                 # Akan membuat loop meloncat ke step berikutnya\n",
        "  print('Hai')                               # Aksi true 3\n",
        "else:                                        # Kondisi 3, akan dijalankan apabila kondisi 1 dan 2 tidak memenuhi                            \n",
        "  print('Selesai')                           # Aksi false\n",
        "\n",
        "# Saat bilangan_10 tidak sama dengan 4 dilaksanakan aksi true 3\n",
        "# Namun, saat bilangan_10 == 4 yang dilaksanakan aksi true 2 karena setelah aksi true 2 ada fungsi \"continue\".\n",
        "# Dimana fungsi ini akan membuat aksi/perintah dibawahnya tidak dilaksanakan, loop akan langsung meloncat ke step berikutnya(step awal)\n",
        "\n",
        "print('\\nContoh program while loop setelah ditambahkan fungsi \"break\"')\n",
        "# Mendeklarasikan variabel\n",
        "bil_10 = 0\n",
        "print(f'Bilangan sekarang -> {bil_10}')      # Menggunakan formatted string\n",
        "while bil_10 < 7:                            # Kondisi 1\n",
        "  bil_10 += 2                                # Syarat, yang artinya bil_10 = bil_10 + 2\n",
        "  print(f'Bilangan sekarang -> {bil_10}')    # Aksi true 1\n",
        "  if bil_10 == 4:                            # Kondisi 2\n",
        "    print(\"Mantappu Jiwa\")                   # Aksi true 2\n",
        "    break                                    # Akan membuat program while loop terhenti\n",
        "  print('Hai')                               # Aksi true 3                            \n",
        "print('Selesai')                             \n",
        "\n",
        "# Fungsi \"break\" akan membuat proses program while loop terhenti hingga aksi true 2\n",
        "# Perintah di dalam while loop setelah break tidak akan dilaksanakan, program akan melaksanakan perintah diluar while loop \n"
      ],
      "metadata": {
        "colab": {
          "base_uri": "https://localhost:8080/"
        },
        "id": "Nip_YCxcYJ3H",
        "outputId": "33ef2676-691f-4e09-a60a-9b5ce656e429"
      },
      "execution_count": 5,
      "outputs": [
        {
          "output_type": "stream",
          "name": "stdout",
          "text": [
            "Contoh program while loop sebelum ditambahkan fungsi \"continue\"\n",
            "Bilangan sekarang -> 0\n",
            "Bilangan sekarang -> 2\n",
            "Hai\n",
            "Bilangan sekarang -> 4\n",
            "Mantappu Jiwa\n",
            "Hai\n",
            "Bilangan sekarang -> 6\n",
            "Hai\n",
            "Bilangan sekarang -> 8\n",
            "Hai\n",
            "Selesai\n",
            "\n",
            "Contoh program while loop setelah ditambahkan fungsi \"continue\"\n",
            "Bilangan sekarang -> 0\n",
            "Bilangan sekarang -> 2\n",
            "Hai\n",
            "Bilangan sekarang -> 4\n",
            "Mantappu Jiwa\n",
            "Bilangan sekarang -> 6\n",
            "Hai\n",
            "Bilangan sekarang -> 8\n",
            "Hai\n",
            "Selesai\n",
            "\n",
            "Contoh program while loop setelah ditambahkan fungsi \"break\"\n",
            "Bilangan sekarang -> 0\n",
            "Bilangan sekarang -> 2\n",
            "Hai\n",
            "Bilangan sekarang -> 4\n",
            "Mantappu Jiwa\n",
            "Selesai\n"
          ]
        }
      ]
    },
    {
      "cell_type": "markdown",
      "source": [
        "##**5.12 List di Python**\n",
        "List digunakan saat akan merepresentasikan objek di dalam Python. List dapat berupa angka, string, ataupun boolean. LIst dapat dipanggil urutannya bahkan isinya dapat dirubah.\n"
      ],
      "metadata": {
        "id": "_wans7zVp3Ao"
      }
    },
    {
      "cell_type": "code",
      "source": [
        "# Latihan list 1\n",
        "print('Berikut contoh list berupa angka')\n",
        "# Mendeklarasikan variabel\n",
        "angka_10 = [1,2,3,4,5]\n",
        "print(angka_10)\n",
        "# Deklarasi variabel meggunakan kurung siku\n",
        "# Apakah bisa menggunakan kurung biasa? Mari kita coba\n",
        "\n",
        "angka_10 = (1,2,3,4,5)\n",
        "print(angka_10)\n",
        "# Ternyata bisa menggunakan kurung biasa, namun pada umumnya list di Python menggunakan tanda kurung siku\n",
        "\n",
        "print('\\nBerikut contoh list berupa string')\n",
        "# Mendeklarasikan variabel\n",
        "string_10 = ['Upin','Ipin','Mail','Susanti']\n",
        "print(string_10)\n",
        "\n",
        "string_10 = ('Upin','Ipin','Mail','Susanti')\n",
        "print(string_10)\n",
        "\n",
        "print('\\nBerikut contoh list berupa boolean')\n",
        "# Mendeklarasikan variabel\n",
        "bool_10 = [True,False,False,True]\n",
        "print(bool_10)\n",
        "bool_10 = (True, False,False, True)\n",
        "print(bool_10)\n",
        "\n",
        "print('\\nBerikut contoh list campuran terdiri dari angka, string, dan boolean')\n",
        "# Mendeklarasikan variabel\n",
        "cam_10 = [1,2,True,'Upin',3,'Mail',False]\n",
        "print(cam_10)\n",
        "cam_10 = (1,2,True,'Upin',3,'Mail',False)\n",
        "print(cam_10)"
      ],
      "metadata": {
        "id": "-5UcnfiHpKb_",
        "colab": {
          "base_uri": "https://localhost:8080/"
        },
        "outputId": "42a18b0b-f0d5-4783-b6e6-1ac7faa3349e"
      },
      "execution_count": 6,
      "outputs": [
        {
          "output_type": "stream",
          "name": "stdout",
          "text": [
            "Berikut contoh list berupa angka\n",
            "[1, 2, 3, 4, 5]\n",
            "(1, 2, 3, 4, 5)\n",
            "\n",
            "Berikut contoh list berupa string\n",
            "['Upin', 'Ipin', 'Mail', 'Susanti']\n",
            "('Upin', 'Ipin', 'Mail', 'Susanti')\n",
            "\n",
            "Berikut contoh list berupa boolean\n",
            "[True, False, False, True]\n",
            "(True, False, False, True)\n",
            "\n",
            "Berikut contoh list campuran terdiri dari angka, string, dan boolean\n",
            "[1, 2, True, 'Upin', 3, 'Mail', False]\n",
            "(1, 2, True, 'Upin', 3, 'Mail', False)\n"
          ]
        }
      ]
    },
    {
      "cell_type": "code",
      "source": [
        "# Latihan list 2\n",
        "# Mendeklarasikan variabel\n",
        "bab_10 = [1,3,5,7,9]\n",
        "print(bab_10[0])\n",
        "# Cara menghitung data dalam variabel sama seperti menghitung string index\n",
        "# Data pertama paling depan adalah index ke 0, data kedua adalah index ke 1, dan seterusnya\n",
        "# Sebaliknya, data pertama dari belakang adalah index ke -1, data kedua dari belakang adalah index ke -2, dan seterusnya\n",
        "\n",
        "print(bab_10[4])\n",
        "print(bab_10[-3])\n",
        "\n",
        "print(bab_10[0:4])\n",
        "# Bagian di atas artinya memanggil data pada bab_10 dengan batas awal index ke 0 dan batas akhir index ke 4 (index ke 4 tidak dicetak seperti pada string index)\n",
        "\n",
        "print(bab_10[:5])\n",
        "# Bagian di atas artinya memanggil data pada bab_10 dari awal (index ke 0) hingga batas akhir (index ke 5), dimana index ke 5 tidak dicetak\n",
        "\n",
        "print(bab_10 [2:])\n",
        "# Bagian di atas artinya memanggil data pada bab_10 dari index ke 2 hingga index terakhir"
      ],
      "metadata": {
        "colab": {
          "base_uri": "https://localhost:8080/"
        },
        "id": "OqYfCTaJ0Bgo",
        "outputId": "de88278f-9177-4499-98ec-952657af0385"
      },
      "execution_count": 7,
      "outputs": [
        {
          "output_type": "stream",
          "name": "stdout",
          "text": [
            "1\n",
            "9\n",
            "5\n",
            "[1, 3, 5, 7]\n",
            "[1, 3, 5, 7, 9]\n",
            "[5, 7, 9]\n"
          ]
        }
      ]
    },
    {
      "cell_type": "code",
      "source": [
        "# Latihan list 2\n",
        "\n",
        "# Mendeklarasikan variabel\n",
        "hewan_10 = ['Anjing','Kucing','Ular','Kambing']\n",
        "\n",
        "# Mengganti data pada hewan_10\n",
        "hewan_10[2] = 'Tikus'\n",
        "# Index ke 2 yaitu 'Kucing' akan digantikan oleh data baru yaitu 'Tikus'\n",
        "print(hewan_10)\n",
        "\n",
        "hewan_10[1:3] = 'Ayam','Bebek'\n",
        "# Index ke 1 dengan batas akhir 3 yaitu 'Kucing','Ular' akan digantikan oleh data baru yaitu 'Ayam','Bebek'\n",
        "print(hewan_10)"
      ],
      "metadata": {
        "colab": {
          "base_uri": "https://localhost:8080/"
        },
        "id": "v3hMaer87L9s",
        "outputId": "1705285b-f594-4b5d-8038-8306aa93e577"
      },
      "execution_count": 8,
      "outputs": [
        {
          "output_type": "stream",
          "name": "stdout",
          "text": [
            "['Anjing', 'Kucing', 'Tikus', 'Kambing']\n",
            "['Anjing', 'Ayam', 'Bebek', 'Kambing']\n"
          ]
        }
      ]
    },
    {
      "cell_type": "code",
      "source": [
        "# Latihan list 3 membuat data indentitas\n",
        "\n",
        "print('Silakan masukan identitas anda')\n",
        "print('='*30)\n",
        "# mendeklarasikan variabel\n",
        "nama_10 = input('Nama Pangilan\\t:') \n",
        "nim_10 = input('NIM\\t\\t:')\n",
        "prodi_10 = input('Prodi\\t\\t:')\n",
        "# \\t berfungsi untuk membuat tabulasi agar output memiliki tanda ':' yang sejajar\n",
        "\n",
        "# Membuat variabel berupa list\n",
        "identitas_10 = [nama_10,nim_10,prodi_10]\n",
        "print(identitas_10)\n",
        "print('='*30)\n",
        "print('\\nBaik, identitas anda tersimpan.')\n",
        "# \\n berfungsi untuk membuat paragraf baru\n",
        "\n"
      ],
      "metadata": {
        "colab": {
          "base_uri": "https://localhost:8080/"
        },
        "id": "ItZHszHaCX93",
        "outputId": "c78b2e67-e733-4196-9536-5e9846b420d6"
      },
      "execution_count": 9,
      "outputs": [
        {
          "output_type": "stream",
          "name": "stdout",
          "text": [
            "Silakan masukan identitas anda\n",
            "==============================\n",
            "Nama Pangilan\t:Gek Indra\n",
            "NIM\t\t:2208541010\n",
            "Prodi\t\t:Matematika\n",
            "['Gek Indra', '2208541010', 'Matematika']\n",
            "==============================\n",
            "\n",
            "Baik, identitas anda tersimpan.\n"
          ]
        }
      ]
    },
    {
      "cell_type": "markdown",
      "source": [
        "##**5.13 Metoda List**\n",
        "Karena *list* merupakan objek, maka keberadaannya dapat dimanipulasi dengan menambahkan, menghilangkan datanya, dll."
      ],
      "metadata": {
        "id": "zsKHEEI6NHuT"
      }
    },
    {
      "cell_type": "code",
      "source": [
        "# Latihan metoda list 1 menggunakan fungsi 'insert'\n",
        "# insert merupakan fungsi untuk menambahkan data sesuai urutan\n",
        "\n",
        "print(\"Berikut list sebelum ditambahkan fungsi 'insert'\")\n",
        "# Mendeklarasikan variabel list berupa string\n",
        "bulan_10 = ['Januari','Februari','Maret','April']\n",
        "print(bulan_10)\n",
        "\n",
        "# Menambahkan data pada list sesuai urutan\n",
        "bulan_10.insert(4, 'Mei')\n",
        "print(\"\\nBerikut list setelah ditambahkan fungsi 'insert'\")\n",
        "print(bulan_10)\n",
        "# Karakter sebelum tanda koma (dalam contoh 4) menunjukkan posisi index yang akan ditambahkan pada list\n",
        "# Karakter setelah tanda kota (dalam contoh 'Mei') menunjukkan data yang akan ditambahkan pada list\n",
        "\n",
        "bulan_10.insert(0,'Desember')\n",
        "print(bulan_10)"
      ],
      "metadata": {
        "colab": {
          "base_uri": "https://localhost:8080/"
        },
        "id": "PZKdYoWcNG8r",
        "outputId": "c261ff0f-867a-4638-f35d-507e5dd36f60"
      },
      "execution_count": 10,
      "outputs": [
        {
          "output_type": "stream",
          "name": "stdout",
          "text": [
            "Berikut list sebelum ditambahkan fungsi 'insert'\n",
            "['Januari', 'Februari', 'Maret', 'April']\n",
            "\n",
            "Berikut list setelah ditambahkan fungsi 'insert'\n",
            "['Januari', 'Februari', 'Maret', 'April', 'Mei']\n",
            "['Desember', 'Januari', 'Februari', 'Maret', 'April', 'Mei']\n"
          ]
        }
      ]
    },
    {
      "cell_type": "code",
      "source": [
        "# Latihan metoda list 2 menggunakan fungsi 'append'\n",
        "# append merupakan fungsi untuk menambahkan data pada posisi akhir list\n",
        "\n",
        "print(\"Berikut list sebelum ditambahkan fungsi 'append'\")\n",
        "# Mendeklarasikan variabel berupa list\n",
        "tahun_10 = [2000,2001,2002,2003,2004]\n",
        "print(tahun_10)\n",
        "\n",
        "print('\\nBerikut list setelah ditambahkan fungsi\"append\"')\n",
        "# Menambahkan fungsi 'append'\n",
        "tahun_10.append(2005)\n",
        "print(tahun_10)\n",
        "# Berbeda dengan fungsi 'insert', fungsi 'append' tidak perlu menuliskan posisi index yang ditambahkan\n",
        "# Karena fungsi ini akan otomatis menempatkan data yang ditambahkan ke posisi index terakhir pada list\n",
        "tahun_10.append(2006)\n",
        "print(tahun_10)"
      ],
      "metadata": {
        "colab": {
          "base_uri": "https://localhost:8080/"
        },
        "id": "iVaLqEbHSRyj",
        "outputId": "33ee97a2-096b-40fc-cd51-0c6cfbc75bba"
      },
      "execution_count": 11,
      "outputs": [
        {
          "output_type": "stream",
          "name": "stdout",
          "text": [
            "Berikut list sebelum ditambahkan fungsi 'append'\n",
            "[2000, 2001, 2002, 2003, 2004]\n",
            "\n",
            "Berikut list setelah ditambahkan fungsi\"append\"\n",
            "[2000, 2001, 2002, 2003, 2004, 2005]\n",
            "[2000, 2001, 2002, 2003, 2004, 2005, 2006]\n"
          ]
        }
      ]
    },
    {
      "cell_type": "code",
      "source": [
        "# Latihan metoda list 3 menggunakan fungsi 'extend'\n",
        "# extend merupakan fungsi untuk menambahkan list dengan list\n",
        "\n",
        "# Menggunakan list bulan_10 dan tahun_10\n",
        "bulan_10.extend(tahun_10)\n",
        "print(bulan_10)\n",
        "\n",
        "# Menggunakan list yang berbeda\n",
        "# Mendeklarasikan variabel list\n",
        "hari_10 = ['Senin','Selasa','Rabu','Kamis']\n",
        "tanggal_10 = [15,16,17,18,19,20]\n",
        "\n",
        "hari_10.extend(tanggal_10)\n",
        "print(hari_10)\n",
        "# Pada fungsi 'extend' diperlukan 2 list\n",
        "# 2 list tersebut akan digabungkan menjadi 1 list"
      ],
      "metadata": {
        "colab": {
          "base_uri": "https://localhost:8080/"
        },
        "id": "-EJASUx1Waii",
        "outputId": "541a4f56-b0bf-498d-d4b2-706a9ae88ab1"
      },
      "execution_count": 12,
      "outputs": [
        {
          "output_type": "stream",
          "name": "stdout",
          "text": [
            "['Desember', 'Januari', 'Februari', 'Maret', 'April', 'Mei', 2000, 2001, 2002, 2003, 2004, 2005, 2006]\n",
            "['Senin', 'Selasa', 'Rabu', 'Kamis', 15, 16, 17, 18, 19, 20]\n"
          ]
        }
      ]
    },
    {
      "cell_type": "code",
      "source": [
        "# Latihan metoda list 4 menggunakan fungsi 'remove'\n",
        "# remove merupakan fungsi untuk menghapus data index berapapun pada list\n",
        "# Hanya bisa menghapus 1 data dalam list\n",
        "\n",
        "print('List sebelum ditambahkan fungsi \"remove\"')\n",
        "print(hari_10)\n",
        "\n",
        "print('\\nList setelah ditambahkan fungsi \"remove\"')\n",
        "hari_10.remove('Senin')\n",
        "# Data 'Senin' pada list hari_10 akan dihapus\n",
        "print(hari_10)\n",
        "\n",
        "hari_10.remove(15,17)      # Ini akan error karena tidak bisa menghapus 2 data sekaligus dalam list\n",
        "print(hari_10)\n"
      ],
      "metadata": {
        "colab": {
          "base_uri": "https://localhost:8080/",
          "height": 305
        },
        "id": "9kBWyBrYbztA",
        "outputId": "86e87447-4b01-4d9e-feb7-ef30ddd9e768"
      },
      "execution_count": 13,
      "outputs": [
        {
          "output_type": "stream",
          "name": "stdout",
          "text": [
            "List sebelum ditambahkan fungsi \"remove\"\n",
            "['Senin', 'Selasa', 'Rabu', 'Kamis', 15, 16, 17, 18, 19, 20]\n",
            "\n",
            "List setelah ditambahkan fungsi \"remove\"\n",
            "['Selasa', 'Rabu', 'Kamis', 15, 16, 17, 18, 19, 20]\n"
          ]
        },
        {
          "output_type": "error",
          "ename": "TypeError",
          "evalue": "ignored",
          "traceback": [
            "\u001b[0;31m---------------------------------------------------------------------------\u001b[0m",
            "\u001b[0;31mTypeError\u001b[0m                                 Traceback (most recent call last)",
            "\u001b[0;32m<ipython-input-13-f11fd0205224>\u001b[0m in \u001b[0;36m<cell line: 13>\u001b[0;34m()\u001b[0m\n\u001b[1;32m     11\u001b[0m \u001b[0mprint\u001b[0m\u001b[0;34m(\u001b[0m\u001b[0mhari_10\u001b[0m\u001b[0;34m)\u001b[0m\u001b[0;34m\u001b[0m\u001b[0;34m\u001b[0m\u001b[0m\n\u001b[1;32m     12\u001b[0m \u001b[0;34m\u001b[0m\u001b[0m\n\u001b[0;32m---> 13\u001b[0;31m \u001b[0mhari_10\u001b[0m\u001b[0;34m.\u001b[0m\u001b[0mremove\u001b[0m\u001b[0;34m(\u001b[0m\u001b[0;36m15\u001b[0m\u001b[0;34m,\u001b[0m\u001b[0;36m17\u001b[0m\u001b[0;34m)\u001b[0m      \u001b[0;31m# Ini akan error karena tidak bisa menghapus 2 data sekaligus dalam list\u001b[0m\u001b[0;34m\u001b[0m\u001b[0;34m\u001b[0m\u001b[0m\n\u001b[0m\u001b[1;32m     14\u001b[0m \u001b[0mprint\u001b[0m\u001b[0;34m(\u001b[0m\u001b[0mhari_10\u001b[0m\u001b[0;34m)\u001b[0m\u001b[0;34m\u001b[0m\u001b[0;34m\u001b[0m\u001b[0m\n",
            "\u001b[0;31mTypeError\u001b[0m: list.remove() takes exactly one argument (2 given)"
          ]
        }
      ]
    },
    {
      "cell_type": "code",
      "source": [
        "# Latihan metoda list 5 menggunakan fungsi 'pop'\n",
        "# pop merupakan fungsi untuk menghapus data terakhir pada list\n",
        "\n",
        "# Mendeklarasikan variabel berupa list\n",
        "zodiak_10 = ['Taurus','Gemini','Scorpio','Sagitarius']\n",
        "zodiak_10.pop()\n",
        "print(f\"List setelah ditambahkan fungsi 'pop' sebagai berikut :\\n{zodiak_10}\")\n",
        "# Data terakhir pada list zodiak_10 otomatis terhapus saat ditambahkan fungsi 'pop'"
      ],
      "metadata": {
        "colab": {
          "base_uri": "https://localhost:8080/"
        },
        "id": "O_2HjAyfe4_z",
        "outputId": "07bba715-0a73-473e-9d26-959a3c83b2ae"
      },
      "execution_count": 14,
      "outputs": [
        {
          "output_type": "stream",
          "name": "stdout",
          "text": [
            "List setelah ditambahkan fungsi 'pop' sebagai berikut :\n",
            "['Taurus', 'Gemini', 'Scorpio']\n"
          ]
        }
      ]
    },
    {
      "cell_type": "code",
      "source": [
        "# Latihan metoda list 6 menggunakan fungsi 'in' dan 'len'\n",
        "# in merupakan fungsi untuk mencari apakah data yang ditentukan ada pada list\n",
        "# len merupakan fungsi untuk mengetahui panjang dari suatu list\n",
        "\n",
        "# Mendeklarasikan variabel\n",
        "warna_10 = ['merah','kuning','hijau','biru','ungu']\n",
        "\n",
        "print('Menggunakan fungsi \"in\"')\n",
        "print('Ungu' in warna_10)\n",
        "print('ungu' in warna_10)\n",
        "# Ingat!! Penggunaan huruf pada fungsi'in' harus sesui dengan penulisan data pada list\n",
        "\n",
        "print('Panjang list di atas adalah ' + str(len(warna_10)))\n",
        "# Berbeda dengan index, len dihitung mulai dari 1"
      ],
      "metadata": {
        "colab": {
          "base_uri": "https://localhost:8080/"
        },
        "id": "L0sezfhii_Au",
        "outputId": "01cfafde-3eac-411e-bd3b-9fb6950ed689"
      },
      "execution_count": 18,
      "outputs": [
        {
          "output_type": "stream",
          "name": "stdout",
          "text": [
            "Menggunakan fungsi \"in\"\n",
            "False\n",
            "True\n",
            "Panjang list di atas adalah 5\n"
          ]
        }
      ]
    },
    {
      "cell_type": "code",
      "source": [
        "# Latihan Metoda list 7 \n",
        "# Percobaan membuat perhitungan kasir sederhana\n",
        "\n",
        "# Mendeklarasikan variabel \n",
        "total_10 = 0\n",
        "barang_10 = []  # Digunakan list kosong, list akan diupdate sesuai dengan barang yang dibeli \n",
        "harga_10 = []   # Digunakan list kosong, list akan diupdate sesuai dengan harga barang yang dibeli\n",
        "\n",
        "# Gunakan while loop untuk melakukan perulangan\n",
        "while True:     \n",
        "  print(\"\"\"Daftar barang\\n\n",
        "1. Buku \\t 5000\n",
        "2. Pulpen \\t 3000\n",
        "3. Pensil \\t 4000\n",
        "  \"\"\")\n",
        "\n",
        "  # Mendeklarasikan variabel kode dengan fungsi Integer dan input\n",
        "  # Menggunakan \\t membuat tabulasi agar output memiliki tanda ':' yang sejajar\n",
        "  kode = int(input(\"Silakan masukan kode barang\\t\\t:  \"))\n",
        "\n",
        "  # Fungsi if berfungsi untuk menganalisis input yang dimasukan\n",
        "  # Jika data yang diinput memenuhi kondisi 1 (bernilai True) \n",
        "  # Maka aksi 1.1, 1.2, dan 1.3 akan dilaksanakan\n",
        "  if kode == 1:                                                  # Kondisi 1\n",
        "    barang_10.append('Buku')                                     # Aksi True 1.1\n",
        "    harga_10.append(5000)                                        # Aksi True 1.2\n",
        "    total_10 += 5000                                             # Aksi True 1.3\n",
        "  \n",
        "  # Fungsi elif sama artinya dengan fungsi if\n",
        "  # Jika  data yang diinput tidak memenuhi kondisi 1, maka data akan diinput ke kondisi 2 atau 3\n",
        "  # Fungsi elif akan menganalisis input yang dimasukan\n",
        "  # Jika data memenuhi kondisi 2 (bernilai True) maka aksi 2.1, 2.2, 2.3 akan dilaksanakan\n",
        "  # Jika data memenuhi kondisi 3 (bernilai True) maka aksi 3.1, 3.2, 3.3 akan dilaksanakan\n",
        "  elif kode == 2:                                                # Kondisi 2\n",
        "    barang_10.append('Pulpen')                                   # Aksi True 2.1\n",
        "    harga_10.append(3000)                                        # Aksi True 2.2\n",
        "    total_10 += 3000                                             # Aksi 2.3\n",
        "  elif kode == 3:                                                # Kondisi 3\n",
        "    barang_10.append('Pensil')                                   # Aksi 3.1\n",
        "    harga_10.append(4000)                                        # Aksi 3.2\n",
        "    total_10 += 4000                                             # Aksi 3.3\n",
        "  \n",
        "  # Fungsi else berfungsi saat data yang diinput tidak memenuhi kondisi 1, 2, dan 3 (bernilai false)\n",
        "  else :                                                         # Kondisi 4\n",
        "    print(\"Kode tidak valid!! Masukan kode dengan benar\")        # Aksi False\n",
        "\n",
        "  #Mendeklarasikan variabel baru dengan fungsi input\n",
        "  lagi_10 = input('Ingin berbelanja lagi? (Ya/Tidak) \\t: ')\n",
        "\n",
        "  # Sama seperti fungsi if sebelumnya, jika kondisi 5 terpenuhi (bernilai true)\n",
        "  # Maka akan dilakukan perintah print, dan fungsi break\n",
        "  # Fungsi break digunakan untuk menghentikan looping yang terjadi\n",
        "  if lagi_10 == \"Tidak\":                                        # Kondisi 5\n",
        "    print(\"\")\n",
        "    break\n",
        "\n",
        "print('Barang yang dibeli \\t\\t\\t: ', barang_10)\n",
        "print('Harga barangnya \\t\\t\\t: ', harga_10)\n",
        "print('Total belanjaan yang harus dibayar \\t: ', total_10, \"\\n\")\n",
        "# Menggunakan \\t membuat tabulasi agar output memiliki tanda ':' yang sejajar\n",
        "\n",
        "# Mendeklarasikan variabel baru menggunakan integer dan fungsi input\n",
        "uang_10 = int(input(\"Masukan uang pembayaran \\t\\t:  \"))\n",
        "\n",
        "if uang_10 > total_10:                                        # Kondisi 1\n",
        "  print('Uang kembalian anda \\t\\t\\t: ', uang_10 - total_10)   # Aksi true 1\n",
        "  print('Terima kasih telah berbelanja')                      # Aksi true 2\n",
        "elif uang_10 == total_10:                                     # Kondisi 2\n",
        "  print('Uang anda pas')                                      # Aksi true 3\n",
        "  print('Terima kasih telah berbelanja')                      # Aksi true 4\n",
        "else:                                                         # Kondisi 3\n",
        "  print('Uang anda kurang')                                   # Aksi false"
      ],
      "metadata": {
        "colab": {
          "base_uri": "https://localhost:8080/"
        },
        "id": "e7ukA4ktqboE",
        "outputId": "1885ac06-86c7-4b77-a651-26dca7062592"
      },
      "execution_count": 19,
      "outputs": [
        {
          "output_type": "stream",
          "name": "stdout",
          "text": [
            "Daftar barang\n",
            "\n",
            "1. Buku \t 5000\n",
            "2. Pulpen \t 3000\n",
            "3. Pensil \t 4000\n",
            "  \n",
            "Silakan masukan kode barang\t\t:  1\n",
            "Ingin berbelanja lagi? (Ya/Tidak) \t: Ya\n",
            "Daftar barang\n",
            "\n",
            "1. Buku \t 5000\n",
            "2. Pulpen \t 3000\n",
            "3. Pensil \t 4000\n",
            "  \n",
            "Silakan masukan kode barang\t\t:  3\n",
            "Ingin berbelanja lagi? (Ya/Tidak) \t: Tidak\n",
            "\n",
            "Barang yang dibeli \t\t\t:  ['Buku', 'Pensil']\n",
            "Harga barangnya \t\t\t:  [5000, 4000]\n",
            "Total belanjaan yang harus dibayar \t:  9000 \n",
            "\n",
            "Masukan uang pembayaran \t\t:  10000\n",
            "Uang kembalian anda \t\t\t:  1000\n",
            "Terima kasih telah berbelanja\n"
          ]
        }
      ]
    },
    {
      "cell_type": "markdown",
      "source": [
        "##**5.14 For Loop**\n",
        "For loop padat digunakan untuk memanggil semua isi *list*"
      ],
      "metadata": {
        "id": "07PbYZy9DHr5"
      }
    },
    {
      "cell_type": "code",
      "source": [
        "# Latihan for loop 1 menggunakan list sebagai iratable\n",
        "\n",
        "#Mendeklarasikan variabel berupa list\n",
        "makanan_10 = ['Soto', 'Tempe', 'Tahu', 'Ayam goreng', 'Perkedel']     # Ini list\n",
        "for m in makanan_10 :\n",
        "  print(m)\n",
        "\n",
        "#Bagian di atas artinya untuk m di dalam makanan_10\n",
        "# m merupakan sebuat variabel baru\n",
        "# m akan memanggil setiap isi/komponen dari list makanan_10\n",
        "\n",
        "print('Panjang list makanan_10 adalah ' + str(len(data_10)))\n",
        "print('Sehingga, pengulangan dilakukan 5 kali')\n",
        "# Pengulangan akan dilakukan sebanyak panjang datanya"
      ],
      "metadata": {
        "colab": {
          "base_uri": "https://localhost:8080/"
        },
        "id": "7TwKzCfWDHR9",
        "outputId": "2fc1fb6a-6ac7-4466-87e5-5b0eb31a3954"
      },
      "execution_count": 28,
      "outputs": [
        {
          "output_type": "stream",
          "name": "stdout",
          "text": [
            "Soto\n",
            "Tempe\n",
            "Tahu\n",
            "Ayam goreng\n",
            "Perkedel\n",
            "Panjang list makanan_10 adalah 6\n",
            "Sehingga, pengulangan dilakukan 5 kali\n"
          ]
        }
      ]
    },
    {
      "cell_type": "code",
      "source": [
        "# Latihan for loop 2 menggunakan string sebagai iratable\n",
        "\n",
        "# Mendeklarasikan variable berupa string\n",
        "data_10 = 'Jus Alpukat'      # Ini string\n",
        "for i in data_10:\n",
        "  print(i)\n",
        "# Jika variabel berupa string, pengulangan dilakukan terhadap karakter=karakter dalam string itu sendiri\n",
        "# Program akan mengeja string\n",
        "\n",
        "print('Panjang data_10 adalah ' + str(len(data_10)))\n",
        "print('Sehingga, pengulangan dilakukan 11 kali')\n",
        "# Banyak pengulangan pada string akan sama dengan panjang datanya"
      ],
      "metadata": {
        "colab": {
          "base_uri": "https://localhost:8080/"
        },
        "outputId": "b1a9798f-4543-4067-d8ec-0285e74ecffa",
        "id": "nFqorWlAZnTI"
      },
      "execution_count": 23,
      "outputs": [
        {
          "output_type": "stream",
          "name": "stdout",
          "text": [
            "J\n",
            "u\n",
            "s\n",
            " \n",
            "A\n",
            "l\n",
            "p\n",
            "u\n",
            "k\n",
            "a\n",
            "t\n",
            "Panjang data_10 adalah 11\n",
            "Sehingga, pengulangan dilakukan 11 kali\n"
          ]
        }
      ]
    },
    {
      "cell_type": "code",
      "source": [
        "# Latihan for loop 3\n",
        "# Membuat for dalam for, untuk itu diperlukan beberapa list\n",
        "\n",
        "#Mendeklarasikan variabel berupa list\n",
        "makanan_10 = ['Soto', 'Tempe', 'Tahu', 'Ayam goreng', 'Perkedel']\n",
        "minuman_10 = ['Jus alpukat', 'Es teh', 'Air putih']\n",
        "daftar_10 = [makanan_10, minuman_10]\n",
        "print(daftar_10)\n",
        "\n",
        "# subdaftar_10 disini maksudnya list makanan_10 dan minuman_10 di dalam daftar_10\n",
        "# subdaftar_10 akan mengambil setiap listnya\n",
        "for subdaftar_10 in daftar_10:\n",
        "  print(subdaftar_10)\n",
        "  \n",
        "  #kata akan mengambil setiap isi dalam subdaftar_10\n",
        "  for kata in subdaftar_10:\n",
        "    print(kata)"
      ],
      "metadata": {
        "colab": {
          "base_uri": "https://localhost:8080/"
        },
        "id": "QOGJSRAiSUdU",
        "outputId": "bc2a153b-1aca-4b24-8cac-ca614ac9a2b1"
      },
      "execution_count": 24,
      "outputs": [
        {
          "output_type": "stream",
          "name": "stdout",
          "text": [
            "[['Soto', 'Tempe', 'Tahu', 'Ayam goreng', 'Perkedel'], ['Jus alpukat', 'Es teh', 'Air putih']]\n",
            "['Soto', 'Tempe', 'Tahu', 'Ayam goreng', 'Perkedel']\n",
            "Soto\n",
            "Tempe\n",
            "Tahu\n",
            "Ayam goreng\n",
            "Perkedel\n",
            "['Jus alpukat', 'Es teh', 'Air putih']\n",
            "Jus alpukat\n",
            "Es teh\n",
            "Air putih\n"
          ]
        }
      ]
    },
    {
      "cell_type": "markdown",
      "source": [
        "##**5.15 Fungsi Range**\n",
        "Fungsi *range* digunakan untuk membangkitkan bilangan berurutan atau berpola yang diinginkan. Fungsi *range* perlu dikombinasikan dengan ***for*** loop"
      ],
      "metadata": {
        "id": "1m_ZC_MleHpG"
      }
    },
    {
      "cell_type": "code",
      "source": [
        "# Latihan fungsi range 1\n",
        "\n",
        "# Mencetak semua bilangan berurutan yang diinginkan, contoh 0-6\n",
        "print('Mencetak fungsi range tanpa batas awal')\n",
        "angka_10 = range(10)\n",
        "for data in angka_10:\n",
        "  print(data)\n",
        "\n",
        "# Mencetak semua bilangan berurutan yang diinginkan yang memiliki batas awal dan batas akhir\n",
        "print('\\nMencetak fungsi range dengan batas awal dan batas akhir')\n",
        "a_10 = range(2,10)\n",
        "for b in a_10:\n",
        "  print(b)\n",
        "# Batas awal dan batas akhir dipisahkan oleh tanda koma \",\"\n",
        "# karakter sebelum tanda koma (dalam contoh = 2) adalah batas awal\n",
        "# karakter setelah tanda koma (dalam contoh = 10) adalah batas akhir\n",
        "\n",
        "\n",
        "# Mencetak semua bilangan berurutan yang diinginkan dengan batas awal, batas akhir, dan loncatan\n",
        "print('\\nMencetak fungsi range dengan batas awal, batas akhir, dan loncatan')\n",
        "b_10 = range(3,12,2)\n",
        "for c in b_10:\n",
        "  print(c)\n",
        "# 3 adalah batas awal\n",
        "# 12 adalah batas akhir\n",
        "# 2 adalah loncatan bilangan terurut"
      ],
      "metadata": {
        "colab": {
          "base_uri": "https://localhost:8080/"
        },
        "id": "Y_Aw9QCkepMQ",
        "outputId": "c1bc37ae-f6a4-4862-f26b-8b7288d11f8d"
      },
      "execution_count": 25,
      "outputs": [
        {
          "output_type": "stream",
          "name": "stdout",
          "text": [
            "Mencetak fungsi range tanpa batas awal\n",
            "0\n",
            "1\n",
            "2\n",
            "3\n",
            "4\n",
            "5\n",
            "6\n",
            "7\n",
            "8\n",
            "9\n",
            "\n",
            "Mencetak fungsi range dengan batas awal dan batas akhir\n",
            "2\n",
            "3\n",
            "4\n",
            "5\n",
            "6\n",
            "7\n",
            "8\n",
            "9\n",
            "\n",
            "Mencetak fungsi range dengan batas awal, batas akhir, dan loncatan\n",
            "3\n",
            "5\n",
            "7\n",
            "9\n",
            "11\n"
          ]
        }
      ]
    },
    {
      "cell_type": "code",
      "source": [
        "#Latihan fungsi range untuk mencari nilai terbesar dan terkecil\n",
        "\n",
        "#Mendeklarasikan variabel berupa list\n",
        "data_10 = [4,5,6,7,8,9]\n",
        "print('Diketahui data sebagai berikut : ', data_10)\n",
        "terbesar = data_10[0]\n",
        "for z in range(len(data_10)):\n",
        "  if data_10[z] > terbesar:\n",
        "    terbesar = data_10[z] \n",
        "print('Data dengan nilai terbesar adalah', terbesar)\n",
        "\n",
        "#Mendeklarasikan variabel berupa list\n",
        "UAS_10 = [75,80,80,65,71,90,91,85]\n",
        "print('\\nDiketahui nilai UAS kalkulus anda sebagai berikut : ', UAS_10)\n",
        "terkecil = UAS_10[0]\n",
        "for y in range(len(UAS_10)):\n",
        "  if UAS_10[y] < terkecil:\n",
        "    terkecil = UAS_10[y] \n",
        "print('Nilai UAS kalkulus anda yang terkecil adalah', terkecil)"
      ],
      "metadata": {
        "colab": {
          "base_uri": "https://localhost:8080/"
        },
        "id": "WDOyR_F_nVb4",
        "outputId": "58493874-7c1c-41db-f351-fc41d67ef4e9"
      },
      "execution_count": 26,
      "outputs": [
        {
          "output_type": "stream",
          "name": "stdout",
          "text": [
            "Diketahui data sebagai berikut :  [4, 5, 6, 7, 8, 9]\n",
            "Data dengan nilai terbesar adalah 9\n",
            "\n",
            "Diketahui nilai UAS kalkulus anda sebagai berikut :  [75, 80, 80, 65, 71, 90, 91, 85]\n",
            "Nilai UAS kalkulus anda yang terkecil adalah 65\n"
          ]
        }
      ]
    },
    {
      "cell_type": "code",
      "source": [
        "#Latihan fungsi range 3 membuat segitiga\n",
        "\n",
        "print('Di bawah ini adalah gambar setigiga dengan siku di kiri bawah')\n",
        "#Mendeklarasikan variabel\n",
        "y_10 = 5                        # Banyak baris yang akan dicetak yaitu 5\n",
        "for i in range (0,y_10):       \n",
        "  for j in range (0, i + 1):    \n",
        "    print('*', end= '')\n",
        "  print('')\n",
        "# Baris yang akan dicetak adalah 5\n",
        "# for i disini berfungsi untuk melakukan perulangan dalam membuat baris '*' yang akan dicetak\n",
        "# for j disini berfungsi untuk mencetak '*' sesuai dengan looping atau baris ke berapa\n",
        "\n",
        "print('\\nDi bawah ini adalah gambar setigiga dengan siku di kiri atas')\n",
        "#Mendeklarasikan variabel\n",
        "y_10 = int(input('Masukan banyak baris : '))                 \n",
        "for i in range (0,y_10):       \n",
        "  for j in range (0, y_10):    \n",
        "    print('*', end= '')\n",
        "  y_10 -= 1        # y_10 = y_10 - 1\n",
        "  print('')"
      ],
      "metadata": {
        "colab": {
          "base_uri": "https://localhost:8080/"
        },
        "id": "j_24LSbmut1_",
        "outputId": "8e5351de-f7b5-42b3-98af-f0fa26350827"
      },
      "execution_count": 27,
      "outputs": [
        {
          "output_type": "stream",
          "name": "stdout",
          "text": [
            "Di bawah ini adalah gambar setigiga dengan siku di kiri bawah\n",
            "*\n",
            "**\n",
            "***\n",
            "****\n",
            "*****\n",
            "\n",
            "Di bawah ini adalah gambar setigiga dengan siku di kiri atas\n",
            "Masukan banyak baris : 10\n",
            "**********\n",
            "*********\n",
            "********\n",
            "*******\n",
            "******\n",
            "*****\n",
            "****\n",
            "***\n",
            "**\n",
            "*\n"
          ]
        }
      ]
    }
  ]
}